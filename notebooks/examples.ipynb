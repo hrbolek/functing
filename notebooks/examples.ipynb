{
  "nbformat": 4,
  "nbformat_minor": 0,
  "metadata": {
    "colab": {
      "name": "Examples.ipynb",
      "provenance": [],
      "toc_visible": true,
      "authorship_tag": "ABX9TyNmv+8YOlZfwvtabdRiDSK4",
      "include_colab_link": true
    },
    "kernelspec": {
      "name": "python3",
      "display_name": "Python 3"
    }
  },
  "cells": [
    {
      "cell_type": "markdown",
      "metadata": {
        "id": "view-in-github",
        "colab_type": "text"
      },
      "source": [
        "<a href=\"https://colab.research.google.com/github/hrbolek/functing/blob/main/notebooks/examples.ipynb\" target=\"_parent\"><img src=\"https://colab.research.google.com/assets/colab-badge.svg\" alt=\"Open In Colab\"/></a>"
      ]
    },
    {
      "cell_type": "markdown",
      "metadata": {
        "id": "EGs7XNgT7NHD"
      },
      "source": [
        "# Examples for use **functing** Python library"
      ]
    },
    {
      "cell_type": "code",
      "metadata": {
        "id": "yx6RECyh7Jyt",
        "colab": {
          "base_uri": "https://localhost:8080/"
        },
        "outputId": "242fe9f4-30ca-403b-a016-6a310c3110ab"
      },
      "source": [
        "!pip install functing"
      ],
      "execution_count": 1,
      "outputs": [
        {
          "output_type": "stream",
          "text": [
            "Requirement already satisfied: functing in /usr/local/lib/python3.7/dist-packages (0.4)\n"
          ],
          "name": "stdout"
        }
      ]
    },
    {
      "cell_type": "markdown",
      "metadata": {
        "id": "2gaZ5jRCLYyP"
      },
      "source": [
        "## Example A"
      ]
    },
    {
      "cell_type": "code",
      "metadata": {
        "id": "TKug-P-5LbBr",
        "outputId": "11660047-e23a-48cd-a4d4-0cc77e513d29",
        "colab": {
          "base_uri": "https://localhost:8080/"
        }
      },
      "source": [
        "Td = createTag('td')\r\n",
        "Card = Td(className='card')\r\n",
        "CardBody = Td(className='card-body')\r\n",
        "\r\n",
        "def Item(name):\r\n",
        "    return Card(\r\n",
        "        CardBody('Hello', name)\r\n",
        "    )\r\n",
        "\r\n",
        "pageCode = Item('John')\r\n",
        "html = pageCode()\r\n",
        "print(html)"
      ],
      "execution_count": 11,
      "outputs": [
        {
          "output_type": "stream",
          "text": [
            "['<td className=\"card\">', '<td className=\"card-body\">', 'Hello', 'John', '</td>', '</td>']\n"
          ],
          "name": "stdout"
        }
      ]
    },
    {
      "cell_type": "code",
      "metadata": {
        "id": "z31HvhxZMWV-",
        "outputId": "675de72a-a053-4f0a-cfde-3b8b532c6373",
        "colab": {
          "base_uri": "https://localhost:8080/"
        }
      },
      "source": [
        "html = createTag('html')(lang='eng')\r\n",
        "head = createTag('head')()\r\n",
        "body = createTag('body')()\r\n",
        "div = createTag('div')(className='container')\r\n",
        "\r\n",
        "def Layout(App):\r\n",
        "    return html(\r\n",
        "        head(),\r\n",
        "        body(\r\n",
        "            '<-- Whatever -->',\r\n",
        "            App()\r\n",
        "        )\r\n",
        "    )\r\n",
        "    \r\n",
        "def app(name):\r\n",
        "    return div('Hello', name)\r\n",
        "\r\n",
        "pageCode = Layout(lambda : app('John'))\r\n",
        "htmlItems = pageCode()\r\n",
        "print(htmlItems)"
      ],
      "execution_count": 14,
      "outputs": [
        {
          "output_type": "stream",
          "text": [
            "['<html lang=\"eng\">', '<head>', '</head>', '<body>', '<-- Whatever -->', '<div className=\"container\">', 'Hello', 'John', '</div>', '</body>', '</html>']\n"
          ],
          "name": "stdout"
        }
      ]
    },
    {
      "cell_type": "markdown",
      "metadata": {
        "id": "8adBrIfv7sAX"
      },
      "source": [
        "## Example B"
      ]
    },
    {
      "cell_type": "code",
      "metadata": {
        "id": "lyEElP7r7jmq"
      },
      "source": [
        "from functing.synchronous import createTag\r\n",
        "from functing.synchronous import Children"
      ],
      "execution_count": 2,
      "outputs": []
    },
    {
      "cell_type": "code",
      "metadata": {
        "id": "FQwOb4kT7qwE"
      },
      "source": [
        "Td = createTag('td')(className='card')\r\n",
        "Tr = createTag('tr')()\r\n",
        "Th = createTag('th')()\r\n",
        "Table = createTag('table')()\r\n",
        "TableBody = createTag('tbody')()\r\n",
        "\r\n",
        "def Head(data):\r\n",
        "    result = [Th(col) for col in data.keys()]\r\n",
        "    return Tr(*result)\r\n",
        "\r\n",
        "def Row(data):\r\n",
        "    result = [Td(str(value)) for value in data.values()]\r\n",
        "    return Tr(*result)\r\n",
        "\r\n",
        "def FullTable(dataRows):\r\n",
        "    bodyRows = [Row(data) for data in dataRows]\r\n",
        "    return Table(\r\n",
        "        Head(dataRows[0]),\r\n",
        "        TableBody(*bodyRows)\r\n",
        "    )"
      ],
      "execution_count": 3,
      "outputs": []
    },
    {
      "cell_type": "code",
      "metadata": {
        "colab": {
          "base_uri": "https://localhost:8080/"
        },
        "id": "-UVp7ZXPCZBg",
        "outputId": "bd54e6ee-449c-4b60-b991-2137c937323b"
      },
      "source": [
        "subjectTable = [\r\n",
        "    {'id': 1024, 'name': 'Mathematics', 'lessons': 60},\r\n",
        "    {'id': 1144, 'name': 'English', 'lessons': 30},\r\n",
        "    {'id': 1194, 'name': 'History', 'lessons': 75},\r\n",
        "    {'id': 1086, 'name': 'Physics', 'lessons': 45},\r\n",
        "]\r\n",
        "\r\n",
        "pageCode = FullTable(subjectTable)\r\n",
        "htmlItems = pageCode()\r\n",
        "print(htmlItems)\r\n",
        "print(''.join(htmlItems).replace('<tr>', '\\n<tr>'))"
      ],
      "execution_count": 9,
      "outputs": [
        {
          "output_type": "stream",
          "text": [
            "['<table>', '<tr>', '<th>', 'id', '</th>', '<th>', 'name', '</th>', '<th>', 'lessons', '</th>', '</tr>', '<tbody>', '<tr>', '<td className=\"card\">', '1024', '</td>', '<td className=\"card\">', 'Mathematics', '</td>', '<td className=\"card\">', '60', '</td>', '</tr>', '<tr>', '<td className=\"card\">', '1144', '</td>', '<td className=\"card\">', 'English', '</td>', '<td className=\"card\">', '30', '</td>', '</tr>', '<tr>', '<td className=\"card\">', '1194', '</td>', '<td className=\"card\">', 'History', '</td>', '<td className=\"card\">', '75', '</td>', '</tr>', '<tr>', '<td className=\"card\">', '1086', '</td>', '<td className=\"card\">', 'Physics', '</td>', '<td className=\"card\">', '45', '</td>', '</tr>', '</tbody>', '</table>']\n",
            "<table>\n",
            "<tr><th>id</th><th>name</th><th>lessons</th></tr><tbody>\n",
            "<tr><td className=\"card\">1024</td><td className=\"card\">Mathematics</td><td className=\"card\">60</td></tr>\n",
            "<tr><td className=\"card\">1144</td><td className=\"card\">English</td><td className=\"card\">30</td></tr>\n",
            "<tr><td className=\"card\">1194</td><td className=\"card\">History</td><td className=\"card\">75</td></tr>\n",
            "<tr><td className=\"card\">1086</td><td className=\"card\">Physics</td><td className=\"card\">45</td></tr></tbody></table>\n"
          ],
          "name": "stdout"
        }
      ]
    },
    {
      "cell_type": "code",
      "metadata": {
        "id": "dBZT5p8FE9ac"
      },
      "source": [
        ""
      ],
      "execution_count": 4,
      "outputs": []
    }
  ]
}