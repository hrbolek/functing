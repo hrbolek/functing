{
  "nbformat": 4,
  "nbformat_minor": 0,
  "metadata": {
    "colab": {
      "name": "Examples.ipynb",
      "provenance": [],
      "toc_visible": true,
      "authorship_tag": "ABX9TyMOdGEyyhA1JG7bvm6YJUHA",
      "include_colab_link": true
    },
    "kernelspec": {
      "name": "python3",
      "display_name": "Python 3"
    }
  },
  "cells": [
    {
      "cell_type": "markdown",
      "metadata": {
        "id": "view-in-github",
        "colab_type": "text"
      },
      "source": [
        "<a href=\"https://colab.research.google.com/github/hrbolek/functing/blob/main/notebooks/examples.ipynb\" target=\"_parent\"><img src=\"https://colab.research.google.com/assets/colab-badge.svg\" alt=\"Open In Colab\"/></a>"
      ]
    },
    {
      "cell_type": "markdown",
      "metadata": {
        "id": "EGs7XNgT7NHD"
      },
      "source": [
        "# Examples for use `functing` Python library"
      ]
    },
    {
      "cell_type": "code",
      "metadata": {
        "id": "yx6RECyh7Jyt",
        "outputId": "31b61631-e417-48dd-9300-e0daf499f649",
        "colab": {
          "base_uri": "https://localhost:8080/"
        }
      },
      "source": [
        "!pip install functing==0.4"
      ],
      "execution_count": 13,
      "outputs": [
        {
          "output_type": "stream",
          "text": [
            "Collecting functing==0.4\n",
            "  Downloading https://files.pythonhosted.org/packages/78/fd/a27550d5e933a77c64b745b1689f55559dd7a0f965094da7332290cdcc4c/functing-0.4.tar.gz\n",
            "Building wheels for collected packages: functing\n",
            "  Building wheel for functing (setup.py) ... \u001b[?25l\u001b[?25hdone\n",
            "  Created wheel for functing: filename=functing-0.4-cp37-none-any.whl size=2805 sha256=1a125179c5b09ae77c7cd13f07ce34fff2452242398def1f9019b5014ac81938\n",
            "  Stored in directory: /root/.cache/pip/wheels/b2/d7/d1/597d072821914ef2a9ab2e9c94b272e29e5fa543640e641b2a\n",
            "Successfully built functing\n",
            "Installing collected packages: functing\n",
            "  Found existing installation: functing 0.2\n",
            "    Uninstalling functing-0.2:\n",
            "      Successfully uninstalled functing-0.2\n",
            "Successfully installed functing-0.4\n"
          ],
          "name": "stdout"
        }
      ]
    },
    {
      "cell_type": "markdown",
      "metadata": {
        "id": "8adBrIfv7sAX"
      },
      "source": [
        "## Example A"
      ]
    },
    {
      "cell_type": "code",
      "metadata": {
        "id": "lyEElP7r7jmq"
      },
      "source": [
        "from functing.asynchronous import createTag\r\n",
        "from functing.asynchronous import Children"
      ],
      "execution_count": 24,
      "outputs": []
    },
    {
      "cell_type": "code",
      "metadata": {
        "id": "FQwOb4kT7qwE"
      },
      "source": [
        "Td = createTag('td')(className='card')\r\n",
        "Tr = createTag('tr')()\r\n",
        "Th = createTag('th')()\r\n",
        "Table = createTag('table')()\r\n",
        "TableBody = createTag('tbody')()\r\n",
        "\r\n",
        "def Head(data):\r\n",
        "    return Tr([Th(col) for col in data.keys()])\r\n",
        "\r\n",
        "def Row(data):\r\n",
        "    return Tr([Td(str(value)) for value in data.values()])\r\n",
        "\r\n",
        "def FullTable(dataRows):\r\n",
        "    return Table(\r\n",
        "        Head(dataRows[0]),\r\n",
        "        TableBody([Row(data) for data in dataRows])\r\n",
        "    )\r\n"
      ],
      "execution_count": 27,
      "outputs": []
    },
    {
      "cell_type": "code",
      "metadata": {
        "id": "-UVp7ZXPCZBg",
        "outputId": "1b4d537a-469e-45f6-e11b-6aa4bb230981",
        "colab": {
          "base_uri": "https://localhost:8080/"
        }
      },
      "source": [
        "subjectTable = [\r\n",
        "    {'id': 1024, 'name': 'Mathematics', 'lessons': 60},\r\n",
        "    {'id': 1144, 'name': 'English', 'lessons': 30},\r\n",
        "    {'id': 1194, 'name': 'History', 'lessons': 75},\r\n",
        "    {'id': 1086, 'name': 'Physics', 'lessons': 45},\r\n",
        "]\r\n",
        "\r\n",
        "pageCode = FullTable(subjectTable)\r\n",
        "html = pageCode()\r\n",
        "print(html)"
      ],
      "execution_count": 28,
      "outputs": [
        {
          "output_type": "stream",
          "text": [
            "['<table>', '<tr>', [<function asTemplate.<locals>.wrapped.<locals>.execute at 0x7effaf5b1290>, <function asTemplate.<locals>.wrapped.<locals>.execute at 0x7effaf5be320>, <function asTemplate.<locals>.wrapped.<locals>.execute at 0x7effaf5bee60>], '</tr>', '<tbody>', [<function asTemplate.<locals>.wrapped.<locals>.execute at 0x7effaf5bea70>, <function asTemplate.<locals>.wrapped.<locals>.execute at 0x7effaf5acb90>, <function asTemplate.<locals>.wrapped.<locals>.execute at 0x7effaf5b94d0>, <function asTemplate.<locals>.wrapped.<locals>.execute at 0x7effaf5b9830>], '</tbody>', '</table>']\n"
          ],
          "name": "stdout"
        }
      ]
    },
    {
      "cell_type": "code",
      "metadata": {
        "id": "KUK7yHz98v4i"
      },
      "source": [
        ""
      ],
      "execution_count": null,
      "outputs": []
    }
  ]
}