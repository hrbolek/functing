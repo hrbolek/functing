{
  "nbformat": 4,
  "nbformat_minor": 0,
  "metadata": {
    "colab": {
      "name": "Examples.ipynb",
      "provenance": [],
      "toc_visible": true,
      "authorship_tag": "ABX9TyMKLZxI1aEP9aBOmD+eVeO5",
      "include_colab_link": true
    },
    "kernelspec": {
      "name": "python3",
      "display_name": "Python 3"
    }
  },
  "cells": [
    {
      "cell_type": "markdown",
      "metadata": {
        "id": "view-in-github",
        "colab_type": "text"
      },
      "source": [
        "<a href=\"https://colab.research.google.com/github/hrbolek/functing/blob/main/notebooks/examples.ipynb\" target=\"_parent\"><img src=\"https://colab.research.google.com/assets/colab-badge.svg\" alt=\"Open In Colab\"/></a>"
      ]
    },
    {
      "cell_type": "markdown",
      "metadata": {
        "id": "EGs7XNgT7NHD"
      },
      "source": [
        "# Examples of Usage "
      ]
    },
    {
      "cell_type": "code",
      "metadata": {
        "id": "yx6RECyh7Jyt",
        "colab": {
          "base_uri": "https://localhost:8080/"
        },
        "outputId": "242fe9f4-30ca-403b-a016-6a310c3110ab"
      },
      "source": [
        "!pip install functing"
      ],
      "execution_count": 1,
      "outputs": [
        {
          "output_type": "stream",
          "text": [
            "Requirement already satisfied: functing in /usr/local/lib/python3.7/dist-packages (0.4)\n"
          ],
          "name": "stdout"
        }
      ]
    },
    {
      "cell_type": "markdown",
      "metadata": {
        "id": "S_TNTbegS0kD"
      },
      "source": [
        "## Example A"
      ]
    },
    {
      "cell_type": "markdown",
      "metadata": {
        "id": "sdikDA5hTC5l"
      },
      "source": [
        "This is probably the simpliest example and as usually, it is 'Hello World' example."
      ]
    },
    {
      "cell_type": "code",
      "metadata": {
        "colab": {
          "base_uri": "https://localhost:8080/"
        },
        "id": "4Rj3cOdPS0vS",
        "outputId": "ec4e1611-f697-428a-c57f-5c77643d9cba"
      },
      "source": [
        "from functing.synchronous import createTag\r\n",
        "\r\n",
        "Div = createTag('div')()\r\n",
        "\r\n",
        "pageCode = Div('Hello world')\r\n",
        "htmlItems = pageCode()\r\n",
        "print('htmlItems:\\t', htmlItems)\r\n",
        "htmlStr = ''.join(htmlItems)\r\n",
        "print('htmlStr:\\t', htmlStr)"
      ],
      "execution_count": 20,
      "outputs": [
        {
          "output_type": "stream",
          "text": [
            "htmlItems:\t ['<div>', 'Hello world', '</div>']\n",
            "htmlStr:\t <div>Hello world</div>\n"
          ],
          "name": "stdout"
        }
      ]
    },
    {
      "cell_type": "markdown",
      "metadata": {
        "id": "2gaZ5jRCLYyP"
      },
      "source": [
        "## Example B"
      ]
    },
    {
      "cell_type": "markdown",
      "metadata": {
        "id": "sYxwl_weX3rY"
      },
      "source": [
        "This example shows how to define templates in form of function."
      ]
    },
    {
      "cell_type": "code",
      "metadata": {
        "colab": {
          "base_uri": "https://localhost:8080/"
        },
        "id": "TKug-P-5LbBr",
        "outputId": "c3d7d072-e0f4-4d86-cb9d-4dea719278cb"
      },
      "source": [
        "from functing.synchronous import createTag\r\n",
        "\r\n",
        "Td = createTag('td')\r\n",
        "Card = Td(className='card')\r\n",
        "CardBody = Td(className='card-body')\r\n",
        "\r\n",
        "def Item(name):\r\n",
        "    return Card(\r\n",
        "        CardBody('Hello', name)\r\n",
        "    )\r\n",
        "\r\n",
        "pageCode = Item('John')\r\n",
        "htmlItems = pageCode()\r\n",
        "print(htmlItems)"
      ],
      "execution_count": 15,
      "outputs": [
        {
          "output_type": "stream",
          "text": [
            "['<td className=\"card\">', '<td className=\"card-body\">', 'Hello', 'John', '</td>', '</td>']\n"
          ],
          "name": "stdout"
        }
      ]
    },
    {
      "cell_type": "markdown",
      "metadata": {
        "id": "1LwPEmnUSald"
      },
      "source": [
        "## Example C"
      ]
    },
    {
      "cell_type": "markdown",
      "metadata": {
        "id": "EMu4me-pUYrH"
      },
      "source": [
        "If lambda expressions are used, the code probably looks more readible."
      ]
    },
    {
      "cell_type": "code",
      "metadata": {
        "colab": {
          "base_uri": "https://localhost:8080/"
        },
        "id": "bTIGAmpKSaAe",
        "outputId": "9a678525-e30b-4f1c-95ce-6c075eb884b1"
      },
      "source": [
        "from functing.synchronous import createTag\r\n",
        "\r\n",
        "Td = createTag('td')\r\n",
        "Card = Td(className='card')\r\n",
        "CardBody = Td(className='card-body')\r\n",
        "\r\n",
        "Item = lambda name: \\\r\n",
        "    Card(\r\n",
        "        CardBody('Hello', name)\r\n",
        "    )\r\n",
        "\r\n",
        "pageCode = Item('John')\r\n",
        "htmlItems = pageCode()\r\n",
        "print(htmlItems)"
      ],
      "execution_count": 23,
      "outputs": [
        {
          "output_type": "stream",
          "text": [
            "['<td className=\"card\">', '<td className=\"card-body\">', 'Hello', 'John', '</td>', '</td>']\n"
          ],
          "name": "stdout"
        }
      ]
    },
    {
      "cell_type": "markdown",
      "metadata": {
        "id": "0P3GWTfGSVTK"
      },
      "source": [
        "## Example D"
      ]
    },
    {
      "cell_type": "markdown",
      "metadata": {
        "id": "bpTyPuz9YA7j"
      },
      "source": [
        "This example shows how to combine the general layout and app."
      ]
    },
    {
      "cell_type": "code",
      "metadata": {
        "colab": {
          "base_uri": "https://localhost:8080/"
        },
        "id": "z31HvhxZMWV-",
        "outputId": "7be81e18-f7c3-4936-97a3-35ec9b2ccf47"
      },
      "source": [
        "from functing.synchronous import createTag\r\n",
        "\r\n",
        "html = createTag('html')(lang='eng')\r\n",
        "head = createTag('head')()\r\n",
        "body = createTag('body')()\r\n",
        "div = createTag('div')(className='container')\r\n",
        "\r\n",
        "# Layout accepts App as a parameter, App is called template too\r\n",
        "Layout = lambda App: \\\r\n",
        "    html(\r\n",
        "        head(),\r\n",
        "        body(\r\n",
        "            '<-- Whatever -->',\r\n",
        "            App()\r\n",
        "        )\r\n",
        "    )\r\n",
        "    \r\n",
        "app = lambda name: \\\r\n",
        "    div('Hello', name)\r\n",
        "\r\n",
        "pageCode = Layout(lambda : app('John'))\r\n",
        "htmlItems = pageCode()\r\n",
        "print(htmlItems)"
      ],
      "execution_count": 22,
      "outputs": [
        {
          "output_type": "stream",
          "text": [
            "['<html lang=\"eng\">', '<head>', '</head>', '<body>', '<-- Whatever -->', '<div className=\"container\">', 'Hello', 'John', '</div>', '</body>', '</html>']\n"
          ],
          "name": "stdout"
        }
      ]
    },
    {
      "cell_type": "markdown",
      "metadata": {
        "id": "8adBrIfv7sAX"
      },
      "source": [
        "## Example E"
      ]
    },
    {
      "cell_type": "markdown",
      "metadata": {
        "id": "vAkjP3-fY5G_"
      },
      "source": [
        "This is quite complex example where several components are defined. Top component is Table with one parameter holding data."
      ]
    },
    {
      "cell_type": "code",
      "metadata": {
        "id": "FQwOb4kT7qwE"
      },
      "source": [
        "from functing.synchronous import createTag\r\n",
        "from functing.synchronous import Children\r\n",
        "\r\n",
        "Td = createTag('td')(className='card')\r\n",
        "Tr = createTag('tr')()\r\n",
        "Th = createTag('th')()\r\n",
        "Table = createTag('table')()\r\n",
        "TableBody = createTag('tbody')()\r\n",
        "\r\n",
        "def Head(data):\r\n",
        "    result = [Th(col) for col in data.keys()]\r\n",
        "    return Tr(*result)\r\n",
        "\r\n",
        "def Row(data):\r\n",
        "    result = [Td(str(value)) for value in data.values()]\r\n",
        "    return Tr(*result)\r\n",
        "\r\n",
        "def FullTable(dataRows):\r\n",
        "    bodyRows = [Row(data) for data in dataRows]\r\n",
        "    return Table(\r\n",
        "        Head(dataRows[0]),\r\n",
        "        TableBody(*bodyRows)\r\n",
        "    )"
      ],
      "execution_count": 3,
      "outputs": []
    },
    {
      "cell_type": "code",
      "metadata": {
        "colab": {
          "base_uri": "https://localhost:8080/"
        },
        "id": "-UVp7ZXPCZBg",
        "outputId": "bd54e6ee-449c-4b60-b991-2137c937323b"
      },
      "source": [
        "subjectTable = [\r\n",
        "    {'id': 1024, 'name': 'Mathematics', 'lessons': 60},\r\n",
        "    {'id': 1144, 'name': 'English', 'lessons': 30},\r\n",
        "    {'id': 1194, 'name': 'History', 'lessons': 75},\r\n",
        "    {'id': 1086, 'name': 'Physics', 'lessons': 45},\r\n",
        "]\r\n",
        "\r\n",
        "pageCode = FullTable(subjectTable)\r\n",
        "htmlItems = pageCode()\r\n",
        "print(htmlItems)\r\n",
        "print(''.join(htmlItems).replace('<tr>', '\\n<tr>'))"
      ],
      "execution_count": 9,
      "outputs": [
        {
          "output_type": "stream",
          "text": [
            "['<table>', '<tr>', '<th>', 'id', '</th>', '<th>', 'name', '</th>', '<th>', 'lessons', '</th>', '</tr>', '<tbody>', '<tr>', '<td className=\"card\">', '1024', '</td>', '<td className=\"card\">', 'Mathematics', '</td>', '<td className=\"card\">', '60', '</td>', '</tr>', '<tr>', '<td className=\"card\">', '1144', '</td>', '<td className=\"card\">', 'English', '</td>', '<td className=\"card\">', '30', '</td>', '</tr>', '<tr>', '<td className=\"card\">', '1194', '</td>', '<td className=\"card\">', 'History', '</td>', '<td className=\"card\">', '75', '</td>', '</tr>', '<tr>', '<td className=\"card\">', '1086', '</td>', '<td className=\"card\">', 'Physics', '</td>', '<td className=\"card\">', '45', '</td>', '</tr>', '</tbody>', '</table>']\n",
            "<table>\n",
            "<tr><th>id</th><th>name</th><th>lessons</th></tr><tbody>\n",
            "<tr><td className=\"card\">1024</td><td className=\"card\">Mathematics</td><td className=\"card\">60</td></tr>\n",
            "<tr><td className=\"card\">1144</td><td className=\"card\">English</td><td className=\"card\">30</td></tr>\n",
            "<tr><td className=\"card\">1194</td><td className=\"card\">History</td><td className=\"card\">75</td></tr>\n",
            "<tr><td className=\"card\">1086</td><td className=\"card\">Physics</td><td className=\"card\">45</td></tr></tbody></table>\n"
          ],
          "name": "stdout"
        }
      ]
    },
    {
      "cell_type": "code",
      "metadata": {
        "id": "dBZT5p8FE9ac"
      },
      "source": [
        ""
      ],
      "execution_count": 4,
      "outputs": []
    }
  ]
}