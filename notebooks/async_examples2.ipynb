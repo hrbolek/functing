{
  "nbformat": 4,
  "nbformat_minor": 0,
  "metadata": {
    "colab": {
      "name": "Examples.ipynb",
      "provenance": [],
      "toc_visible": true,
      "authorship_tag": "ABX9TyMqwgcHwHLHdw0LMDvLqcOv",
      "include_colab_link": true
    },
    "kernelspec": {
      "name": "python3",
      "display_name": "Python 3"
    }
  },
  "cells": [
    {
      "cell_type": "markdown",
      "metadata": {
        "id": "view-in-github",
        "colab_type": "text"
      },
      "source": [
        "<a href=\"https://colab.research.google.com/github/hrbolek/functing/blob/main/notebooks/async_examples2.ipynb\" target=\"_parent\"><img src=\"https://colab.research.google.com/assets/colab-badge.svg\" alt=\"Open In Colab\"/></a>"
      ]
    },
    {
      "cell_type": "markdown",
      "metadata": {
        "id": "EGs7XNgT7NHD"
      },
      "source": [
        "# Examples of usage"
      ]
    },
    {
      "cell_type": "markdown",
      "metadata": {
        "id": "T29VysRaDHIm"
      },
      "source": [
        "At first little hack from https://stackoverflow.com/questions/64074295/is-there-an-equivalence-of-await-in-google-colab to allow async function evaluation in Google Colab."
      ]
    },
    {
      "cell_type": "code",
      "metadata": {
        "id": "ipczmU1vDR4d",
        "outputId": "d50a0b20-3b97-49d3-bfee-535e5e8f08b4",
        "colab": {
          "base_uri": "https://localhost:8080/"
        }
      },
      "source": [
        "!pip install nest_asyncio"
      ],
      "execution_count": null,
      "outputs": [
        {
          "output_type": "stream",
          "text": [
            "Requirement already satisfied: nest_asyncio in /usr/local/lib/python3.7/dist-packages (1.5.1)\n"
          ],
          "name": "stdout"
        }
      ]
    },
    {
      "cell_type": "code",
      "metadata": {
        "id": "zjRs5PKVDGAs"
      },
      "source": [
        "import nest_asyncio\n",
        "nest_asyncio.apply()\n",
        "\n",
        "import asyncio\n",
        "awaitFunc = lambda x: asyncio.get_event_loop().run_until_complete(x)"
      ],
      "execution_count": null,
      "outputs": []
    },
    {
      "cell_type": "code",
      "metadata": {
        "id": "cXdjRJ15Cl84",
        "outputId": "8424b48a-9498-40bc-ec76-9216e8b64196",
        "colab": {
          "base_uri": "https://localhost:8080/"
        }
      },
      "source": [
        "!pip install functing"
      ],
      "execution_count": null,
      "outputs": [
        {
          "output_type": "stream",
          "text": [
            "Collecting functing\n",
            "  Downloading https://files.pythonhosted.org/packages/78/fd/a27550d5e933a77c64b745b1689f55559dd7a0f965094da7332290cdcc4c/functing-0.4.tar.gz\n",
            "Building wheels for collected packages: functing\n",
            "  Building wheel for functing (setup.py) ... \u001b[?25l\u001b[?25hdone\n",
            "  Created wheel for functing: filename=functing-0.4-cp37-none-any.whl size=2805 sha256=2a69de6b81e7ca18e4d36281fe8b2bf5f4fa9a92caf40241ce3a4b25b89b75f5\n",
            "  Stored in directory: /root/.cache/pip/wheels/b2/d7/d1/597d072821914ef2a9ab2e9c94b272e29e5fa543640e641b2a\n",
            "Successfully built functing\n",
            "Installing collected packages: functing\n",
            "Successfully installed functing-0.4\n"
          ],
          "name": "stdout"
        }
      ]
    },
    {
      "cell_type": "markdown",
      "metadata": {
        "id": "KZba4_EbCi1J"
      },
      "source": [
        "## Example A"
      ]
    },
    {
      "cell_type": "code",
      "metadata": {
        "id": "yx6RECyh7Jyt",
        "outputId": "da071334-7a4a-4668-c1d9-25307b9f14dc",
        "colab": {
          "base_uri": "https://localhost:8080/"
        }
      },
      "source": [
        "from functing.asynchronous import createTag\n",
        "\n",
        "Td = createTag('td')()\n",
        "\n",
        "async def Card(name):\n",
        "    return Td(\n",
        "        Td(\n",
        "            'Hello', name\n",
        "        )\n",
        "    )\n",
        "\n",
        "pageCode = awaitFunc(Card('John')) # usually pageCode = await Card('John')\n",
        "html = awaitFunc(pageCode())       # usually html = await pageCode()\n",
        "print(html)"
      ],
      "execution_count": null,
      "outputs": [
        {
          "output_type": "stream",
          "text": [
            "['<td>', '<td>', 'Hello', 'John', '</td>', '</td>']\n"
          ],
          "name": "stdout"
        }
      ]
    },
    {
      "cell_type": "markdown",
      "metadata": {
        "id": "Iorf8zayD32C"
      },
      "source": [
        "## Example B"
      ]
    },
    {
      "cell_type": "code",
      "metadata": {
        "id": "AVNH8I1nDjTm"
      },
      "source": [
        "import time\n",
        "\n",
        "def mS(start=0):\n",
        "    return time.time() - start"
      ],
      "execution_count": null,
      "outputs": []
    },
    {
      "cell_type": "code",
      "metadata": {
        "id": "yHZIsvknEKgO"
      },
      "source": [
        "from functing.asynchronous import Children\n",
        "\n",
        "Td = createTag('td')(className='card')\n",
        "Tr = createTag('tr')()\n",
        "Th = createTag('th')()\n",
        "Table = createTag('table')()\n",
        "TableBody = createTag('tbody')()\n",
        "\n",
        "async def TableCell(data):\n",
        "    await asyncio.sleep(1)\n",
        "    return Td(data)\n",
        "\n",
        "def Head(data):\n",
        "    result = [Th(col) for col in data.keys()]\n",
        "    return Tr(*result)\n",
        "\n",
        "def Row(data):\n",
        "    result = [TableCell(str(value)) for value in data.values()]\n",
        "    return Tr(*result)\n",
        "\n",
        "def FullTable(dataRows):\n",
        "    bodyRows = [Row(data) for data in dataRows]\n",
        "    return Table(\n",
        "        Head(dataRows[0]),\n",
        "        TableBody(*bodyRows)\n",
        "    )"
      ],
      "execution_count": null,
      "outputs": []
    },
    {
      "cell_type": "markdown",
      "metadata": {
        "id": "ev1b586LFeur"
      },
      "source": [
        "Notice that `TableCell` is called 12 times. With blocking call it should take more than 12 second. As asynchronous templating generates `TableCell` concurently, it takes only approximately 1 second."
      ]
    },
    {
      "cell_type": "code",
      "metadata": {
        "id": "XYmx0xVWEg9f",
        "outputId": "0d381396-a627-439a-cc62-1d0419da563e",
        "colab": {
          "base_uri": "https://localhost:8080/"
        }
      },
      "source": [
        "subjectTable = [\n",
        "    {'id': 1024, 'name': 'Mathematics', 'lessons': 60},\n",
        "    {'id': 1144, 'name': 'English', 'lessons': 30},\n",
        "    {'id': 1194, 'name': 'History', 'lessons': 75},\n",
        "    {'id': 1086, 'name': 'Physics', 'lessons': 45},\n",
        "]\n",
        "\n",
        "start = mS()\n",
        "pageCode = FullTable(subjectTable)\n",
        "htmlItems = awaitFunc(pageCode())  # htmlItems = await pageCode()\n",
        "htmlStr = ''.join(htmlItems)\n",
        "duration = mS(start)\n",
        "print('duration', duration, 'ms')\n",
        "print(htmlItems)\n",
        "print(htmlStr.replace('<tr>', '\\n<tr>'))\n"
      ],
      "execution_count": null,
      "outputs": [
        {
          "output_type": "stream",
          "text": [
            "duration 1.0039935111999512 ms\n",
            "['<table>', '<tr>', '<th>', 'id', '</th>', '<th>', 'name', '</th>', '<th>', 'lessons', '</th>', '</tr>', '<tbody>', '<tr>', '<td className=\"card\">', '1024', '</td>', '<td className=\"card\">', 'Mathematics', '</td>', '<td className=\"card\">', '60', '</td>', '</tr>', '<tr>', '<td className=\"card\">', '1144', '</td>', '<td className=\"card\">', 'English', '</td>', '<td className=\"card\">', '30', '</td>', '</tr>', '<tr>', '<td className=\"card\">', '1194', '</td>', '<td className=\"card\">', 'History', '</td>', '<td className=\"card\">', '75', '</td>', '</tr>', '<tr>', '<td className=\"card\">', '1086', '</td>', '<td className=\"card\">', 'Physics', '</td>', '<td className=\"card\">', '45', '</td>', '</tr>', '</tbody>', '</table>']\n",
            "<table>\n",
            "<tr><th>id</th><th>name</th><th>lessons</th></tr><tbody>\n",
            "<tr><td className=\"card\">1024</td><td className=\"card\">Mathematics</td><td className=\"card\">60</td></tr>\n",
            "<tr><td className=\"card\">1144</td><td className=\"card\">English</td><td className=\"card\">30</td></tr>\n",
            "<tr><td className=\"card\">1194</td><td className=\"card\">History</td><td className=\"card\">75</td></tr>\n",
            "<tr><td className=\"card\">1086</td><td className=\"card\">Physics</td><td className=\"card\">45</td></tr></tbody></table>\n"
          ],
          "name": "stdout"
        }
      ]
    },
    {
      "cell_type": "markdown",
      "metadata": {
        "id": "k4GZWOFbGNbG"
      },
      "source": [
        "## Example C"
      ]
    },
    {
      "cell_type": "markdown",
      "metadata": {
        "id": "Oz8MtdyoGPFq"
      },
      "source": [
        "Now the main template is async function."
      ]
    },
    {
      "cell_type": "code",
      "metadata": {
        "id": "gsMzvREBFHSa"
      },
      "source": [
        "from functing.asynchronous import Children\n",
        "\n",
        "Td = createTag('td')(className='card')\n",
        "Tr = createTag('tr')()\n",
        "Th = createTag('th')()\n",
        "Table = createTag('table')()\n",
        "TableBody = createTag('tbody')()\n",
        "\n",
        "async def TableCell(data):\n",
        "    await asyncio.sleep(1)\n",
        "    return Td(data)\n",
        "\n",
        "def Head(data):\n",
        "    result = [Th(col) for col in data.keys()]\n",
        "    return Tr(*result)\n",
        "\n",
        "def Row(data):\n",
        "    result = [TableCell(str(value)) for value in data.values()]\n",
        "    return Tr(*result)\n",
        "\n",
        "async def FullTable(dataRows):\n",
        "    bodyRows = [Row(data) for data in dataRows]\n",
        "    return Table(\n",
        "        Head(dataRows[0]),\n",
        "        TableBody(*bodyRows)\n",
        "    )"
      ],
      "execution_count": null,
      "outputs": []
    },
    {
      "cell_type": "code",
      "metadata": {
        "id": "BHujFyR6GbvO",
        "outputId": "5cbac47a-9683-4b93-ce2e-afd27fe25585",
        "colab": {
          "base_uri": "https://localhost:8080/"
        }
      },
      "source": [
        "subjectTable = [\n",
        "    {'id': 1024, 'name': 'Mathematics', 'lessons': 60},\n",
        "    {'id': 1144, 'name': 'English', 'lessons': 30},\n",
        "    {'id': 1194, 'name': 'History', 'lessons': 75},\n",
        "    {'id': 1086, 'name': 'Physics', 'lessons': 45},\n",
        "]\n",
        "\n",
        "start = mS()\n",
        "pageCode = awaitFunc(FullTable(subjectTable)) # pageCode = await FullTable(subjectTable)\n",
        "htmlItems = awaitFunc(pageCode())             # htmlItems = await pageCode()\n",
        "htmlStr = ''.join(htmlItems)\n",
        "duration = mS(start)\n",
        "print('duration', duration, 'ms')\n",
        "print(htmlItems)\n",
        "print(htmlStr.replace('<tr>', '\\n<tr>'))\n"
      ],
      "execution_count": null,
      "outputs": [
        {
          "output_type": "stream",
          "text": [
            "duration 1.0033257007598877 ms\n",
            "['<table>', '<tr>', '<th>', 'id', '</th>', '<th>', 'name', '</th>', '<th>', 'lessons', '</th>', '</tr>', '<tbody>', '<tr>', '<td className=\"card\">', '1024', '</td>', '<td className=\"card\">', 'Mathematics', '</td>', '<td className=\"card\">', '60', '</td>', '</tr>', '<tr>', '<td className=\"card\">', '1144', '</td>', '<td className=\"card\">', 'English', '</td>', '<td className=\"card\">', '30', '</td>', '</tr>', '<tr>', '<td className=\"card\">', '1194', '</td>', '<td className=\"card\">', 'History', '</td>', '<td className=\"card\">', '75', '</td>', '</tr>', '<tr>', '<td className=\"card\">', '1086', '</td>', '<td className=\"card\">', 'Physics', '</td>', '<td className=\"card\">', '45', '</td>', '</tr>', '</tbody>', '</table>']\n",
            "<table>\n",
            "<tr><th>id</th><th>name</th><th>lessons</th></tr><tbody>\n",
            "<tr><td className=\"card\">1024</td><td className=\"card\">Mathematics</td><td className=\"card\">60</td></tr>\n",
            "<tr><td className=\"card\">1144</td><td className=\"card\">English</td><td className=\"card\">30</td></tr>\n",
            "<tr><td className=\"card\">1194</td><td className=\"card\">History</td><td className=\"card\">75</td></tr>\n",
            "<tr><td className=\"card\">1086</td><td className=\"card\">Physics</td><td className=\"card\">45</td></tr></tbody></table>\n"
          ],
          "name": "stdout"
        }
      ]
    },
    {
      "cell_type": "markdown",
      "source": [
        "# Nová implementace"
      ],
      "metadata": {
        "id": "yjGXbo6y_Yta"
      }
    },
    {
      "cell_type": "code",
      "metadata": {
        "id": "svemZgf5GfAP"
      },
      "source": [
        "from inspect import isawaitable\n",
        "from functools import wraps\n",
        "import asyncio\n",
        "import html\n",
        "\n",
        "def asTemplate(f):\n",
        "    @wraps(f)\n",
        "    def wrapped(*args, **props):\n",
        "        def execute():\n",
        "            return f(*args, **props)  # async f => coroutine (správně)\n",
        "        return execute\n",
        "    return wrapped\n",
        "\n",
        "async def renderChildren(children):\n",
        "    \"\"\"\n",
        "    Paralelní rozřešení:\n",
        "      1) callables se volají hned (může tím vzniknout awaitable),\n",
        "      2) všechny awaitables se awaitnou v jedné dávce (gather),\n",
        "      3) kroky 1–2 se opakují, dokud nic nezbývá,\n",
        "      4) na konci se zploští jen 1 úroveň list/tuple.\n",
        "    \"\"\"\n",
        "    items = list(children)\n",
        "\n",
        "    while True:\n",
        "        # 1) Odkryj callables bez awaitu (dokud nejsou pryč)\n",
        "        called_any = False\n",
        "        for i, v in enumerate(items):\n",
        "            # může vracet další callable => loop\n",
        "            while callable(v):\n",
        "                v = v()\n",
        "                items[i] = v\n",
        "                called_any = True\n",
        "\n",
        "        # 2) Sesbírej awaitables a vyřeš paralelně\n",
        "        await_idx = [i for i, v in enumerate(items) if isawaitable(v)]\n",
        "        if await_idx:\n",
        "            results = await asyncio.gather(*(items[i] for i in await_idx))\n",
        "            for pos, val in zip(await_idx, results):\n",
        "                items[pos] = val\n",
        "            # pokračuj – výsledky mohly být zase callables/awaitables\n",
        "            continue\n",
        "\n",
        "        # 3) Nic k volání/awaitování? Hotovo.\n",
        "        if not called_any:\n",
        "            break\n",
        "\n",
        "    # 4) Zploštění o 1 úroveň (kompatibilní s tvým expandováním listů)\n",
        "    out = []\n",
        "    for v in items:\n",
        "        if isinstance(v, (list, tuple)):\n",
        "            out.extend(v)\n",
        "        else:\n",
        "            out.append(v)\n",
        "    return out\n",
        "\n",
        "@asTemplate\n",
        "async def Children(*children):\n",
        "    return await renderChildren(children)\n",
        "\n",
        "def renderProps(**props):\n",
        "    parts = []\n",
        "    for key, value in props.items():\n",
        "        if value is None or value is False:\n",
        "            continue\n",
        "        if key == \"className\":\n",
        "            key = \"class\"\n",
        "        if value is True:\n",
        "            parts.append(f\" {key}\")\n",
        "        else:\n",
        "            parts.append(f' {key}=\"{html.escape(str(value), quote=True)}\"')\n",
        "    return \"\".join(parts)\n",
        "\n",
        "def createTag(tagName):\n",
        "    def propertiesDefinition(**props):\n",
        "        open_tag = f\"<{tagName}{renderProps(**props)}>\"\n",
        "        close_tag = f\"</{tagName}>\"\n",
        "\n",
        "        @asTemplate\n",
        "        async def body(*children):\n",
        "            rendered = await renderChildren(children)\n",
        "            return [open_tag, *map(str, rendered), close_tag]\n",
        "\n",
        "        return body\n",
        "    return propertiesDefinition\n"
      ],
      "execution_count": null,
      "outputs": []
    },
    {
      "cell_type": "markdown",
      "source": [
        "## Asynchronní kontexty"
      ],
      "metadata": {
        "id": "oLQf115I_kqh"
      }
    },
    {
      "cell_type": "code",
      "source": [
        "from inspect import isawaitable\n",
        "from functools import wraps\n",
        "from contextvars import ContextVar\n",
        "from typing import Any, Iterable, List, Optional\n",
        "import asyncio\n",
        "import html\n",
        "\n",
        "# ---------------- utils ----------------\n",
        "\n",
        "def asTemplate(f):\n",
        "    @wraps(f)\n",
        "    def wrapped(*args, **props):\n",
        "        def execute():\n",
        "            return f(*args, **props)  # async f => coroutine (správně)\n",
        "        return execute\n",
        "    return wrapped\n",
        "\n",
        "def renderProps(**props):\n",
        "    parts = []\n",
        "    for key, value in props.items():\n",
        "        if value is None or value is False:\n",
        "            continue\n",
        "        if key == \"className\":\n",
        "            key = \"class\"\n",
        "        if value is True:  # boolean atribut\n",
        "            parts.append(f\" {key}\")\n",
        "        else:\n",
        "            parts.append(f' {key}=\"{html.escape(str(value), quote=True)}\"')\n",
        "    return \"\".join(parts)\n",
        "\n",
        "# ---------------- parallel resolver ----------------\n",
        "\n",
        "async def renderChildren(children: Iterable[Any]):\n",
        "    \"\"\"\n",
        "    Paralelní rozřešení:\n",
        "      - opakovaně „odkrývá“ callables,\n",
        "      - awaituje všechny awaitables v dávce (gather),\n",
        "      - až nic nezbyde, zploští o 1 úroveň list/tuple.\n",
        "    \"\"\"\n",
        "    items = list(children)\n",
        "\n",
        "    while True:\n",
        "        called_any = False\n",
        "        # 1) vyvolej callables bez awaitu (mohou vrátit awaitable/list/…)\n",
        "        for i, v in enumerate(items):\n",
        "            while callable(v):\n",
        "                v = v()\n",
        "                items[i] = v\n",
        "                called_any = True\n",
        "\n",
        "        # 2) sesbírej awaitables a vyřeš paralelně\n",
        "        await_idx = [i for i, v in enumerate(items) if isawaitable(v)]\n",
        "        if await_idx:\n",
        "            results = await asyncio.gather(*(items[i] for i in await_idx))\n",
        "            for pos, val in zip(await_idx, results):\n",
        "                items[pos] = val\n",
        "            # výsledky mohly být znovu callables/awaitables → pokračuj\n",
        "            continue\n",
        "\n",
        "        if not called_any:\n",
        "            break\n",
        "\n",
        "    # 3) zploštění o jednu úroveň\n",
        "    out = []\n",
        "    for v in items:\n",
        "        if isinstance(v, (list, tuple)):\n",
        "            out.extend(v)\n",
        "        else:\n",
        "            out.append(v)\n",
        "    return out\n",
        "\n",
        "@asTemplate\n",
        "async def Children(*children):\n",
        "    return await renderChildren(children)\n",
        "\n",
        "# ---------------- kontextový stack ----------------\n",
        "\n",
        "_COLLECTORS: ContextVar[List[List[Any]]] = ContextVar(\"_COLLECTORS\", default=[])\n",
        "\n",
        "def _current_collector() -> Optional[List[Any]]:\n",
        "    stack = _COLLECTORS.get()\n",
        "    return stack[-1] if stack else None\n",
        "\n",
        "class _PushCollector:\n",
        "    \"\"\"Helper pro (a)synchronní kontext – pushne nový collector a vrátí token pro reset.\"\"\"\n",
        "    def __init__(self):\n",
        "        self.token = None\n",
        "\n",
        "    def __enter__(self):\n",
        "        stack = list(_COLLECTORS.get())\n",
        "        stack.append([])\n",
        "        self.token = _COLLECTORS.set(stack)\n",
        "        return stack[-1]\n",
        "\n",
        "    def __exit__(self, exc_type, exc, tb):\n",
        "        _COLLECTORS.reset(self.token)\n",
        "        return False\n",
        "\n",
        "    async def __aenter__(self):\n",
        "        return self.__enter__()\n",
        "\n",
        "    async def __aexit__(self, exc_type, exc, tb):\n",
        "        return self.__exit__(exc_type, exc, tb)\n",
        "\n",
        "# ---------------- Tag API s podporou async contextu ----------------\n",
        "\n",
        "class TagContext:\n",
        "    \"\"\"Objekt používaný v `async with Tag(...):` blocích.\"\"\"\n",
        "    def __init__(self, tag: str, props: dict):\n",
        "        self.tag = tag\n",
        "        self.props = props\n",
        "        self._collector_cm = _PushCollector()\n",
        "        self._parent_collector: Optional[List[Any]] = None\n",
        "        self._my_collector: Optional[List[Any]] = None\n",
        "\n",
        "    async def __aenter__(self):\n",
        "        self._parent_collector = _current_collector()\n",
        "        self._my_collector = await self._collector_cm.__aenter__()  # nový collector pro potomky\n",
        "        return self\n",
        "\n",
        "    async def __aexit__(self, exc_type, exc, tb):\n",
        "        # vytáhni můj collector a vrať se k rodiči\n",
        "        await self._collector_cm.__aexit__(exc_type, exc, tb)\n",
        "        children_parts = await renderChildren(self._my_collector or [])\n",
        "        open_tag = f\"<{self.tag}{renderProps(**self.props)}>\"\n",
        "        close_tag = f\"</{self.tag}>\"\n",
        "        block = [open_tag, *map(str, children_parts), close_tag]\n",
        "\n",
        "        # vlož hotový blok do rodičovského collector-u (pokud existuje), jinak nic (uživatel vrátí sám)\n",
        "        if self._parent_collector is not None:\n",
        "            self._parent_collector.append(block)\n",
        "\n",
        "        # nepolykáme výjimky\n",
        "        return False\n",
        "\n",
        "class TagFactory:\n",
        "    \"\"\"\n",
        "    Objekt vracený createTag('div')().\n",
        "    - Volání s dětmi → vrací thunk (asTemplate) jako dřív.\n",
        "    - Volání bez dětí → vrátí TagContext pro `async with`.\n",
        "    - Pokud existuje aktivní collector (v async with), volání s dětmi se\n",
        "      automaticky připne do collector-u (není nutné výsledek ukládat).\n",
        "    \"\"\"\n",
        "    def __init__(self, tag: str, default_props: dict):\n",
        "        self.tag = tag\n",
        "        self.default_props = default_props\n",
        "\n",
        "    def _merge(self, props: dict) -> dict:\n",
        "        merged = dict(self.default_props)\n",
        "        merged.update(props)\n",
        "        return merged\n",
        "\n",
        "    def __call__(self, *children, **props):\n",
        "        merged = self._merge(props)\n",
        "\n",
        "        # Bez dětí → slouží jako \"constructor\" pro context manager\n",
        "        if not children:\n",
        "            return TagContext(self.tag, merged)\n",
        "\n",
        "        # S dětmi → klasická šablona (thunk)\n",
        "        @asTemplate\n",
        "        async def body():\n",
        "            rendered = await renderChildren(children)\n",
        "            return [f\"<{self.tag}{renderProps(**merged)}>\", *map(str, rendered), f\"</{self.tag}>\"]\n",
        "\n",
        "        thunk = body()\n",
        "\n",
        "        # Pokud jsme v kontextu, rovnou se připni do aktuálního collector-u\n",
        "        coll = _current_collector()\n",
        "        if coll is not None:\n",
        "            coll.append(thunk)\n",
        "        return thunk\n",
        "\n",
        "# ---------------- veřejná factory ----------------\n",
        "\n",
        "def createTag(tagName: str):\n",
        "    def propertiesDefinition(**props):\n",
        "        # vrací objekt, který jde volat (děti) i použít v async with\n",
        "        return TagFactory(tagName, props)\n",
        "    return propertiesDefinition\n",
        "\n",
        "# ---------------- příklad použití ----------------\n",
        "# Definice tagů\n",
        "Div = createTag(\"div\")(className=\"card\")\n",
        "Table = createTag(\"table\")()\n",
        "Tbody = createTag(\"tbody\")()\n",
        "Tr    = createTag(\"tr\")()\n",
        "Th    = createTag(\"th\")()\n",
        "Td    = createTag(\"td\")(className=\"cell\")\n",
        "\n",
        "# 1) Šablonový (thunk) styl\n",
        "@asTemplate\n",
        "async def Head(data: dict):\n",
        "    return await Children(Tr(*(Th(k) for k in data.keys())))\n",
        "\n",
        "# 2) Async context styl (auto-attach dovnitř)\n",
        "async def Head_ctx(data: dict):\n",
        "    async with Tr():\n",
        "        for k in data.keys():\n",
        "            Th(k)  # není třeba nic ukládat – připne se do aktivního collector-u\n",
        "\n",
        "# Stavba celé tabulky kontextově\n",
        "async def build_table_ctx(data: dict):\n",
        "    async with Table(className=\"nice\"):\n",
        "        async with Tbody():\n",
        "            await Head_ctx(data)\n",
        "    # Jelikož nejvyšší level nemá rodiče, poskládej výsledek ručně:\n",
        "    top = _current_collector()\n",
        "    # Pokud jsi volal pouze kontexty, nejsi v žádném collector-u → vytvoř si transientní:\n",
        "    with _PushCollector() as root:\n",
        "        async with Table(className=\"nice\"):  # reálně bys obalil celý dokument/layout\n",
        "            async with Tbody():\n",
        "                await Head_ctx(data)\n",
        "        rendered = await renderChildren(root)\n",
        "    return \"\".join(map(str, rendered))\n",
        "\n",
        "# Kombinace: Children/Thunk + async with\n",
        "async def build_mixed(data: dict):\n",
        "    with _PushCollector() as root:\n",
        "        async with Div:\n",
        "            await Children(\"Hello \")\n",
        "            Div(\"world!\")\n",
        "        return \"\".join(map(str, await renderChildren(root)))\n"
      ],
      "metadata": {
        "id": "2HZxIpDh_jRw"
      },
      "execution_count": 1,
      "outputs": []
    },
    {
      "cell_type": "code",
      "source": [
        "from inspect import isawaitable\n",
        "\n",
        "# --- render_root helper ---\n",
        "async def render_root(builder=None):\n",
        "    \"\"\"\n",
        "    Spustí builder uvnitř kořenového collector-u a vrátí HTML string.\n",
        "    - builder může být: async funkce, awaitable, sync callable, nebo None.\n",
        "    - cokoli, co builder vrátí (list/tuple/single), se přidá do collector-u.\n",
        "    \"\"\"\n",
        "    with _PushCollector() as root:\n",
        "        if builder is not None:\n",
        "            result = builder() if callable(builder) else builder\n",
        "            if isawaitable(result):\n",
        "                result = await result\n",
        "            if result is not None:\n",
        "                if isinstance(result, (list, tuple)):\n",
        "                    root.extend(result)\n",
        "                else:\n",
        "                    root.append(result)\n",
        "\n",
        "        rendered = await renderChildren(root)\n",
        "    return \"\".join(map(str, rendered))\n"
      ],
      "metadata": {
        "id": "xm6uwOuUAs0A"
      },
      "execution_count": 2,
      "outputs": []
    },
    {
      "cell_type": "code",
      "source": [
        "# from IPython.display import display, HTML\n",
        "# Definice tagů (jak dřív)\n",
        "Table = createTag(\"table\")()\n",
        "Tbody = createTag(\"tbody\")()\n",
        "Tr    = createTag(\"tr\")()\n",
        "Th    = createTag(\"th\")()\n",
        "Td    = createTag(\"td\")(className=\"cell\")\n",
        "\n",
        "async def Head_ctx(data: dict):\n",
        "    async with Tr():\n",
        "        for k in data.keys():\n",
        "            Th(k)\n",
        "\n",
        "async def Row_ctx(row: dict):\n",
        "    async with Tr():\n",
        "        for v in row.values():\n",
        "            Td(str(v))\n",
        "\n",
        "async def Page_ctx(data: list[dict]):\n",
        "    async with Table(className=\"nice\"):\n",
        "        async with Tbody():\n",
        "            if data:\n",
        "                await Head_ctx(data[0])\n",
        "            for r in data:\n",
        "                await Row_ctx(r)\n",
        "\n",
        "# použití:\n",
        "data = [{\"ID\": 1, \"Name\": \"Alice\"}, {\"ID\": 2, \"Name\": \"Bob\"}]\n",
        "html_result = await render_root(lambda: Page_ctx(data))\n",
        "# -> \"<table class=\\\"nice\\\"><tbody><tr>...</tr>...</tbody></table>\"\n",
        "# display(HTML(html_result))\n",
        "html_result"
      ],
      "metadata": {
        "id": "a8rL_aJoAvNA",
        "outputId": "f504967d-9ac4-4f85-c676-4af49f9a1162",
        "colab": {
          "base_uri": "https://localhost:8080/",
          "height": 735
        }
      },
      "execution_count": 8,
      "outputs": [
        {
          "output_type": "error",
          "ename": "AttributeError",
          "evalue": "escape",
          "traceback": [
            "\u001b[0;31m---------------------------------------------------------------------------\u001b[0m",
            "\u001b[0;31mAttributeError\u001b[0m                            Traceback (most recent call last)",
            "\u001b[0;32m/usr/local/lib/python3.12/dist-packages/IPython/utils/importstring.py\u001b[0m in \u001b[0;36mimport_item\u001b[0;34m(name)\u001b[0m\n\u001b[1;32m     32\u001b[0m         \u001b[0;32mtry\u001b[0m\u001b[0;34m:\u001b[0m\u001b[0;34m\u001b[0m\u001b[0;34m\u001b[0m\u001b[0m\n\u001b[0;32m---> 33\u001b[0;31m             \u001b[0mpak\u001b[0m \u001b[0;34m=\u001b[0m \u001b[0mgetattr\u001b[0m\u001b[0;34m(\u001b[0m\u001b[0mmodule\u001b[0m\u001b[0;34m,\u001b[0m \u001b[0mobj\u001b[0m\u001b[0;34m)\u001b[0m\u001b[0;34m\u001b[0m\u001b[0;34m\u001b[0m\u001b[0m\n\u001b[0m\u001b[1;32m     34\u001b[0m         \u001b[0;32mexcept\u001b[0m \u001b[0mAttributeError\u001b[0m\u001b[0;34m:\u001b[0m\u001b[0;34m\u001b[0m\u001b[0;34m\u001b[0m\u001b[0m\n",
            "\u001b[0;31mAttributeError\u001b[0m: module 'notebook' has no attribute 'escape'",
            "\nDuring handling of the above exception, another exception occurred:\n",
            "\u001b[0;31mImportError\u001b[0m                               Traceback (most recent call last)",
            "\u001b[0;32m/usr/local/lib/python3.12/dist-packages/IPython/utils/shimmodule.py\u001b[0m in \u001b[0;36m__getattr__\u001b[0;34m(self, key)\u001b[0m\n\u001b[1;32m     91\u001b[0m         \u001b[0;32mtry\u001b[0m\u001b[0;34m:\u001b[0m\u001b[0;34m\u001b[0m\u001b[0;34m\u001b[0m\u001b[0m\n\u001b[0;32m---> 92\u001b[0;31m             \u001b[0;32mreturn\u001b[0m \u001b[0mimport_item\u001b[0m\u001b[0;34m(\u001b[0m\u001b[0mname\u001b[0m\u001b[0;34m)\u001b[0m\u001b[0;34m\u001b[0m\u001b[0;34m\u001b[0m\u001b[0m\n\u001b[0m\u001b[1;32m     93\u001b[0m         \u001b[0;32mexcept\u001b[0m \u001b[0mImportError\u001b[0m\u001b[0;34m:\u001b[0m\u001b[0;34m\u001b[0m\u001b[0;34m\u001b[0m\u001b[0m\n",
            "\u001b[0;32m/usr/local/lib/python3.12/dist-packages/IPython/utils/importstring.py\u001b[0m in \u001b[0;36mimport_item\u001b[0;34m(name)\u001b[0m\n\u001b[1;32m     34\u001b[0m         \u001b[0;32mexcept\u001b[0m \u001b[0mAttributeError\u001b[0m\u001b[0;34m:\u001b[0m\u001b[0;34m\u001b[0m\u001b[0;34m\u001b[0m\u001b[0m\n\u001b[0;32m---> 35\u001b[0;31m             \u001b[0;32mraise\u001b[0m \u001b[0mImportError\u001b[0m\u001b[0;34m(\u001b[0m\u001b[0;34m'No module named %s'\u001b[0m \u001b[0;34m%\u001b[0m \u001b[0mobj\u001b[0m\u001b[0;34m)\u001b[0m\u001b[0;34m\u001b[0m\u001b[0;34m\u001b[0m\u001b[0m\n\u001b[0m\u001b[1;32m     36\u001b[0m         \u001b[0;32mreturn\u001b[0m \u001b[0mpak\u001b[0m\u001b[0;34m\u001b[0m\u001b[0;34m\u001b[0m\u001b[0m\n",
            "\u001b[0;31mImportError\u001b[0m: No module named escape",
            "\nDuring handling of the above exception, another exception occurred:\n",
            "\u001b[0;31mAttributeError\u001b[0m                            Traceback (most recent call last)",
            "\u001b[0;32m/tmp/ipython-input-2605385025.py\u001b[0m in \u001b[0;36mPage_ctx\u001b[0;34m(data)\u001b[0m\n\u001b[1;32m     24\u001b[0m             \u001b[0;32mfor\u001b[0m \u001b[0mr\u001b[0m \u001b[0;32min\u001b[0m \u001b[0mdata\u001b[0m\u001b[0;34m:\u001b[0m\u001b[0;34m\u001b[0m\u001b[0;34m\u001b[0m\u001b[0m\n\u001b[0;32m---> 25\u001b[0;31m                 \u001b[0;32mawait\u001b[0m \u001b[0mRow_ctx\u001b[0m\u001b[0;34m(\u001b[0m\u001b[0mr\u001b[0m\u001b[0;34m)\u001b[0m\u001b[0;34m\u001b[0m\u001b[0;34m\u001b[0m\u001b[0m\n\u001b[0m\u001b[1;32m     26\u001b[0m \u001b[0;34m\u001b[0m\u001b[0m\n",
            "\u001b[0;32m/tmp/ipython-input-2605385025.py\u001b[0m in \u001b[0;36mRow_ctx\u001b[0;34m(row)\u001b[0m\n\u001b[1;32m     14\u001b[0m \u001b[0;32masync\u001b[0m \u001b[0;32mdef\u001b[0m \u001b[0mRow_ctx\u001b[0m\u001b[0;34m(\u001b[0m\u001b[0mrow\u001b[0m\u001b[0;34m:\u001b[0m \u001b[0mdict\u001b[0m\u001b[0;34m)\u001b[0m\u001b[0;34m:\u001b[0m\u001b[0;34m\u001b[0m\u001b[0;34m\u001b[0m\u001b[0m\n\u001b[0;32m---> 15\u001b[0;31m     \u001b[0;32masync\u001b[0m \u001b[0;32mwith\u001b[0m \u001b[0mTr\u001b[0m\u001b[0;34m(\u001b[0m\u001b[0;34m)\u001b[0m\u001b[0;34m:\u001b[0m\u001b[0;34m\u001b[0m\u001b[0;34m\u001b[0m\u001b[0m\n\u001b[0m\u001b[1;32m     16\u001b[0m         \u001b[0;32mfor\u001b[0m \u001b[0mv\u001b[0m \u001b[0;32min\u001b[0m \u001b[0mrow\u001b[0m\u001b[0;34m.\u001b[0m\u001b[0mvalues\u001b[0m\u001b[0;34m(\u001b[0m\u001b[0;34m)\u001b[0m\u001b[0;34m:\u001b[0m\u001b[0;34m\u001b[0m\u001b[0;34m\u001b[0m\u001b[0m\n",
            "\u001b[0;32m/tmp/ipython-input-2558562780.py\u001b[0m in \u001b[0;36m__aexit__\u001b[0;34m(self, exc_type, exc, tb)\u001b[0m\n\u001b[1;32m    123\u001b[0m         \u001b[0;32mawait\u001b[0m \u001b[0mself\u001b[0m\u001b[0;34m.\u001b[0m\u001b[0m_collector_cm\u001b[0m\u001b[0;34m.\u001b[0m\u001b[0m__aexit__\u001b[0m\u001b[0;34m(\u001b[0m\u001b[0mexc_type\u001b[0m\u001b[0;34m,\u001b[0m \u001b[0mexc\u001b[0m\u001b[0;34m,\u001b[0m \u001b[0mtb\u001b[0m\u001b[0;34m)\u001b[0m\u001b[0;34m\u001b[0m\u001b[0;34m\u001b[0m\u001b[0m\n\u001b[0;32m--> 124\u001b[0;31m         \u001b[0mchildren_parts\u001b[0m \u001b[0;34m=\u001b[0m \u001b[0;32mawait\u001b[0m \u001b[0mrenderChildren\u001b[0m\u001b[0;34m(\u001b[0m\u001b[0mself\u001b[0m\u001b[0;34m.\u001b[0m\u001b[0m_my_collector\u001b[0m \u001b[0;32mor\u001b[0m \u001b[0;34m[\u001b[0m\u001b[0;34m]\u001b[0m\u001b[0;34m)\u001b[0m\u001b[0;34m\u001b[0m\u001b[0;34m\u001b[0m\u001b[0m\n\u001b[0m\u001b[1;32m    125\u001b[0m         \u001b[0mopen_tag\u001b[0m \u001b[0;34m=\u001b[0m \u001b[0;34mf\"<{self.tag}{renderProps(**self.props)}>\"\u001b[0m\u001b[0;34m\u001b[0m\u001b[0;34m\u001b[0m\u001b[0m\n",
            "\u001b[0;32m/tmp/ipython-input-2558562780.py\u001b[0m in \u001b[0;36mrenderChildren\u001b[0;34m(children)\u001b[0m\n\u001b[1;32m     53\u001b[0m         \u001b[0;32mif\u001b[0m \u001b[0mawait_idx\u001b[0m\u001b[0;34m:\u001b[0m\u001b[0;34m\u001b[0m\u001b[0;34m\u001b[0m\u001b[0m\n\u001b[0;32m---> 54\u001b[0;31m             \u001b[0mresults\u001b[0m \u001b[0;34m=\u001b[0m \u001b[0;32mawait\u001b[0m \u001b[0masyncio\u001b[0m\u001b[0;34m.\u001b[0m\u001b[0mgather\u001b[0m\u001b[0;34m(\u001b[0m\u001b[0;34m*\u001b[0m\u001b[0;34m(\u001b[0m\u001b[0mitems\u001b[0m\u001b[0;34m[\u001b[0m\u001b[0mi\u001b[0m\u001b[0;34m]\u001b[0m \u001b[0;32mfor\u001b[0m \u001b[0mi\u001b[0m \u001b[0;32min\u001b[0m \u001b[0mawait_idx\u001b[0m\u001b[0;34m)\u001b[0m\u001b[0;34m)\u001b[0m\u001b[0;34m\u001b[0m\u001b[0;34m\u001b[0m\u001b[0m\n\u001b[0m\u001b[1;32m     55\u001b[0m             \u001b[0;32mfor\u001b[0m \u001b[0mpos\u001b[0m\u001b[0;34m,\u001b[0m \u001b[0mval\u001b[0m \u001b[0;32min\u001b[0m \u001b[0mzip\u001b[0m\u001b[0;34m(\u001b[0m\u001b[0mawait_idx\u001b[0m\u001b[0;34m,\u001b[0m \u001b[0mresults\u001b[0m\u001b[0;34m)\u001b[0m\u001b[0;34m:\u001b[0m\u001b[0;34m\u001b[0m\u001b[0;34m\u001b[0m\u001b[0m\n",
            "\u001b[0;32m/tmp/ipython-input-2558562780.py\u001b[0m in \u001b[0;36mbody\u001b[0;34m()\u001b[0m\n\u001b[1;32m    163\u001b[0m             \u001b[0mrendered\u001b[0m \u001b[0;34m=\u001b[0m \u001b[0;32mawait\u001b[0m \u001b[0mrenderChildren\u001b[0m\u001b[0;34m(\u001b[0m\u001b[0mchildren\u001b[0m\u001b[0;34m)\u001b[0m\u001b[0;34m\u001b[0m\u001b[0;34m\u001b[0m\u001b[0m\n\u001b[0;32m--> 164\u001b[0;31m             \u001b[0;32mreturn\u001b[0m \u001b[0;34m[\u001b[0m\u001b[0;34mf\"<{self.tag}{renderProps(**merged)}>\"\u001b[0m\u001b[0;34m,\u001b[0m \u001b[0;34m*\u001b[0m\u001b[0mmap\u001b[0m\u001b[0;34m(\u001b[0m\u001b[0mstr\u001b[0m\u001b[0;34m,\u001b[0m \u001b[0mrendered\u001b[0m\u001b[0;34m)\u001b[0m\u001b[0;34m,\u001b[0m \u001b[0;34mf\"</{self.tag}>\"\u001b[0m\u001b[0;34m]\u001b[0m\u001b[0;34m\u001b[0m\u001b[0;34m\u001b[0m\u001b[0m\n\u001b[0m\u001b[1;32m    165\u001b[0m \u001b[0;34m\u001b[0m\u001b[0m\n",
            "\u001b[0;32m/tmp/ipython-input-2558562780.py\u001b[0m in \u001b[0;36mrenderProps\u001b[0;34m(**props)\u001b[0m\n\u001b[1;32m     27\u001b[0m         \u001b[0;32melse\u001b[0m\u001b[0;34m:\u001b[0m\u001b[0;34m\u001b[0m\u001b[0;34m\u001b[0m\u001b[0m\n\u001b[0;32m---> 28\u001b[0;31m             \u001b[0mparts\u001b[0m\u001b[0;34m.\u001b[0m\u001b[0mappend\u001b[0m\u001b[0;34m(\u001b[0m\u001b[0;34mf' {key}=\"{html.escape(str(value), quote=True)}\"'\u001b[0m\u001b[0;34m)\u001b[0m\u001b[0;34m\u001b[0m\u001b[0;34m\u001b[0m\u001b[0m\n\u001b[0m\u001b[1;32m     29\u001b[0m     \u001b[0;32mreturn\u001b[0m \u001b[0;34m\"\"\u001b[0m\u001b[0;34m.\u001b[0m\u001b[0mjoin\u001b[0m\u001b[0;34m(\u001b[0m\u001b[0mparts\u001b[0m\u001b[0;34m)\u001b[0m\u001b[0;34m\u001b[0m\u001b[0;34m\u001b[0m\u001b[0m\n",
            "\u001b[0;32m/usr/local/lib/python3.12/dist-packages/IPython/utils/shimmodule.py\u001b[0m in \u001b[0;36m__getattr__\u001b[0;34m(self, key)\u001b[0m\n\u001b[1;32m     93\u001b[0m         \u001b[0;32mexcept\u001b[0m \u001b[0mImportError\u001b[0m\u001b[0;34m:\u001b[0m\u001b[0;34m\u001b[0m\u001b[0;34m\u001b[0m\u001b[0m\n\u001b[0;32m---> 94\u001b[0;31m             \u001b[0;32mraise\u001b[0m \u001b[0mAttributeError\u001b[0m\u001b[0;34m(\u001b[0m\u001b[0mkey\u001b[0m\u001b[0;34m)\u001b[0m\u001b[0;34m\u001b[0m\u001b[0;34m\u001b[0m\u001b[0m\n\u001b[0m",
            "\u001b[0;31mAttributeError\u001b[0m: escape",
            "\nDuring handling of the above exception, another exception occurred:\n",
            "\u001b[0;31mAttributeError\u001b[0m                            Traceback (most recent call last)",
            "\u001b[0;32m/usr/local/lib/python3.12/dist-packages/IPython/utils/importstring.py\u001b[0m in \u001b[0;36mimport_item\u001b[0;34m(name)\u001b[0m\n\u001b[1;32m     32\u001b[0m         \u001b[0;32mtry\u001b[0m\u001b[0;34m:\u001b[0m\u001b[0;34m\u001b[0m\u001b[0;34m\u001b[0m\u001b[0m\n\u001b[0;32m---> 33\u001b[0;31m             \u001b[0mpak\u001b[0m \u001b[0;34m=\u001b[0m \u001b[0mgetattr\u001b[0m\u001b[0;34m(\u001b[0m\u001b[0mmodule\u001b[0m\u001b[0;34m,\u001b[0m \u001b[0mobj\u001b[0m\u001b[0;34m)\u001b[0m\u001b[0;34m\u001b[0m\u001b[0;34m\u001b[0m\u001b[0m\n\u001b[0m\u001b[1;32m     34\u001b[0m         \u001b[0;32mexcept\u001b[0m \u001b[0mAttributeError\u001b[0m\u001b[0;34m:\u001b[0m\u001b[0;34m\u001b[0m\u001b[0;34m\u001b[0m\u001b[0m\n",
            "\u001b[0;31mAttributeError\u001b[0m: module 'notebook' has no attribute 'escape'",
            "\nDuring handling of the above exception, another exception occurred:\n",
            "\u001b[0;31mImportError\u001b[0m                               Traceback (most recent call last)",
            "\u001b[0;32m/usr/local/lib/python3.12/dist-packages/IPython/utils/shimmodule.py\u001b[0m in \u001b[0;36m__getattr__\u001b[0;34m(self, key)\u001b[0m\n\u001b[1;32m     91\u001b[0m         \u001b[0;32mtry\u001b[0m\u001b[0;34m:\u001b[0m\u001b[0;34m\u001b[0m\u001b[0;34m\u001b[0m\u001b[0m\n\u001b[0;32m---> 92\u001b[0;31m             \u001b[0;32mreturn\u001b[0m \u001b[0mimport_item\u001b[0m\u001b[0;34m(\u001b[0m\u001b[0mname\u001b[0m\u001b[0;34m)\u001b[0m\u001b[0;34m\u001b[0m\u001b[0;34m\u001b[0m\u001b[0m\n\u001b[0m\u001b[1;32m     93\u001b[0m         \u001b[0;32mexcept\u001b[0m \u001b[0mImportError\u001b[0m\u001b[0;34m:\u001b[0m\u001b[0;34m\u001b[0m\u001b[0;34m\u001b[0m\u001b[0m\n",
            "\u001b[0;32m/usr/local/lib/python3.12/dist-packages/IPython/utils/importstring.py\u001b[0m in \u001b[0;36mimport_item\u001b[0;34m(name)\u001b[0m\n\u001b[1;32m     34\u001b[0m         \u001b[0;32mexcept\u001b[0m \u001b[0mAttributeError\u001b[0m\u001b[0;34m:\u001b[0m\u001b[0;34m\u001b[0m\u001b[0;34m\u001b[0m\u001b[0m\n\u001b[0;32m---> 35\u001b[0;31m             \u001b[0;32mraise\u001b[0m \u001b[0mImportError\u001b[0m\u001b[0;34m(\u001b[0m\u001b[0;34m'No module named %s'\u001b[0m \u001b[0;34m%\u001b[0m \u001b[0mobj\u001b[0m\u001b[0;34m)\u001b[0m\u001b[0;34m\u001b[0m\u001b[0;34m\u001b[0m\u001b[0m\n\u001b[0m\u001b[1;32m     36\u001b[0m         \u001b[0;32mreturn\u001b[0m \u001b[0mpak\u001b[0m\u001b[0;34m\u001b[0m\u001b[0;34m\u001b[0m\u001b[0m\n",
            "\u001b[0;31mImportError\u001b[0m: No module named escape",
            "\nDuring handling of the above exception, another exception occurred:\n",
            "\u001b[0;31mAttributeError\u001b[0m                            Traceback (most recent call last)",
            "\u001b[0;32m/tmp/ipython-input-2605385025.py\u001b[0m in \u001b[0;36m<cell line: 1>\u001b[0;34m()\u001b[0m\n\u001b[1;32m     27\u001b[0m \u001b[0;31m# použití:\u001b[0m\u001b[0;34m\u001b[0m\u001b[0;34m\u001b[0m\u001b[0m\n\u001b[1;32m     28\u001b[0m \u001b[0mdata\u001b[0m \u001b[0;34m=\u001b[0m \u001b[0;34m[\u001b[0m\u001b[0;34m{\u001b[0m\u001b[0;34m\"ID\"\u001b[0m\u001b[0;34m:\u001b[0m \u001b[0;36m1\u001b[0m\u001b[0;34m,\u001b[0m \u001b[0;34m\"Name\"\u001b[0m\u001b[0;34m:\u001b[0m \u001b[0;34m\"Alice\"\u001b[0m\u001b[0;34m}\u001b[0m\u001b[0;34m,\u001b[0m \u001b[0;34m{\u001b[0m\u001b[0;34m\"ID\"\u001b[0m\u001b[0;34m:\u001b[0m \u001b[0;36m2\u001b[0m\u001b[0;34m,\u001b[0m \u001b[0;34m\"Name\"\u001b[0m\u001b[0;34m:\u001b[0m \u001b[0;34m\"Bob\"\u001b[0m\u001b[0;34m}\u001b[0m\u001b[0;34m]\u001b[0m\u001b[0;34m\u001b[0m\u001b[0;34m\u001b[0m\u001b[0m\n\u001b[0;32m---> 29\u001b[0;31m \u001b[0mhtml_result\u001b[0m \u001b[0;34m=\u001b[0m \u001b[0;32mawait\u001b[0m \u001b[0mrender_root\u001b[0m\u001b[0;34m(\u001b[0m\u001b[0;32mlambda\u001b[0m\u001b[0;34m:\u001b[0m \u001b[0mPage_ctx\u001b[0m\u001b[0;34m(\u001b[0m\u001b[0mdata\u001b[0m\u001b[0;34m)\u001b[0m\u001b[0;34m)\u001b[0m\u001b[0;34m\u001b[0m\u001b[0;34m\u001b[0m\u001b[0m\n\u001b[0m\u001b[1;32m     30\u001b[0m \u001b[0;31m# -> \"<table class=\\\"nice\\\"><tbody><tr>...</tr>...</tbody></table>\"\u001b[0m\u001b[0;34m\u001b[0m\u001b[0;34m\u001b[0m\u001b[0m\n\u001b[1;32m     31\u001b[0m \u001b[0;31m# display(HTML(html_result))\u001b[0m\u001b[0;34m\u001b[0m\u001b[0;34m\u001b[0m\u001b[0m\n",
            "\u001b[0;32m/tmp/ipython-input-4239842658.py\u001b[0m in \u001b[0;36mrender_root\u001b[0;34m(builder)\u001b[0m\n\u001b[1;32m     12\u001b[0m             \u001b[0mresult\u001b[0m \u001b[0;34m=\u001b[0m \u001b[0mbuilder\u001b[0m\u001b[0;34m(\u001b[0m\u001b[0;34m)\u001b[0m \u001b[0;32mif\u001b[0m \u001b[0mcallable\u001b[0m\u001b[0;34m(\u001b[0m\u001b[0mbuilder\u001b[0m\u001b[0;34m)\u001b[0m \u001b[0;32melse\u001b[0m \u001b[0mbuilder\u001b[0m\u001b[0;34m\u001b[0m\u001b[0;34m\u001b[0m\u001b[0m\n\u001b[1;32m     13\u001b[0m             \u001b[0;32mif\u001b[0m \u001b[0misawaitable\u001b[0m\u001b[0;34m(\u001b[0m\u001b[0mresult\u001b[0m\u001b[0;34m)\u001b[0m\u001b[0;34m:\u001b[0m\u001b[0;34m\u001b[0m\u001b[0;34m\u001b[0m\u001b[0m\n\u001b[0;32m---> 14\u001b[0;31m                 \u001b[0mresult\u001b[0m \u001b[0;34m=\u001b[0m \u001b[0;32mawait\u001b[0m \u001b[0mresult\u001b[0m\u001b[0;34m\u001b[0m\u001b[0;34m\u001b[0m\u001b[0m\n\u001b[0m\u001b[1;32m     15\u001b[0m             \u001b[0;32mif\u001b[0m \u001b[0mresult\u001b[0m \u001b[0;32mis\u001b[0m \u001b[0;32mnot\u001b[0m \u001b[0;32mNone\u001b[0m\u001b[0;34m:\u001b[0m\u001b[0;34m\u001b[0m\u001b[0;34m\u001b[0m\u001b[0m\n\u001b[1;32m     16\u001b[0m                 \u001b[0;32mif\u001b[0m \u001b[0misinstance\u001b[0m\u001b[0;34m(\u001b[0m\u001b[0mresult\u001b[0m\u001b[0;34m,\u001b[0m \u001b[0;34m(\u001b[0m\u001b[0mlist\u001b[0m\u001b[0;34m,\u001b[0m \u001b[0mtuple\u001b[0m\u001b[0;34m)\u001b[0m\u001b[0;34m)\u001b[0m\u001b[0;34m:\u001b[0m\u001b[0;34m\u001b[0m\u001b[0;34m\u001b[0m\u001b[0m\n",
            "\u001b[0;32m/tmp/ipython-input-2605385025.py\u001b[0m in \u001b[0;36mPage_ctx\u001b[0;34m(data)\u001b[0m\n\u001b[1;32m     18\u001b[0m \u001b[0;34m\u001b[0m\u001b[0m\n\u001b[1;32m     19\u001b[0m \u001b[0;32masync\u001b[0m \u001b[0;32mdef\u001b[0m \u001b[0mPage_ctx\u001b[0m\u001b[0;34m(\u001b[0m\u001b[0mdata\u001b[0m\u001b[0;34m:\u001b[0m \u001b[0mlist\u001b[0m\u001b[0;34m[\u001b[0m\u001b[0mdict\u001b[0m\u001b[0;34m]\u001b[0m\u001b[0;34m)\u001b[0m\u001b[0;34m:\u001b[0m\u001b[0;34m\u001b[0m\u001b[0;34m\u001b[0m\u001b[0m\n\u001b[0;32m---> 20\u001b[0;31m     \u001b[0;32masync\u001b[0m \u001b[0;32mwith\u001b[0m \u001b[0mTable\u001b[0m\u001b[0;34m(\u001b[0m\u001b[0mclassName\u001b[0m\u001b[0;34m=\u001b[0m\u001b[0;34m\"nice\"\u001b[0m\u001b[0;34m)\u001b[0m\u001b[0;34m:\u001b[0m\u001b[0;34m\u001b[0m\u001b[0;34m\u001b[0m\u001b[0m\n\u001b[0m\u001b[1;32m     21\u001b[0m         \u001b[0;32masync\u001b[0m \u001b[0;32mwith\u001b[0m \u001b[0mTbody\u001b[0m\u001b[0;34m(\u001b[0m\u001b[0;34m)\u001b[0m\u001b[0;34m:\u001b[0m\u001b[0;34m\u001b[0m\u001b[0;34m\u001b[0m\u001b[0m\n\u001b[1;32m     22\u001b[0m             \u001b[0;32mif\u001b[0m \u001b[0mdata\u001b[0m\u001b[0;34m:\u001b[0m\u001b[0;34m\u001b[0m\u001b[0;34m\u001b[0m\u001b[0m\n",
            "\u001b[0;32m/tmp/ipython-input-2558562780.py\u001b[0m in \u001b[0;36m__aexit__\u001b[0;34m(self, exc_type, exc, tb)\u001b[0m\n\u001b[1;32m    123\u001b[0m         \u001b[0;32mawait\u001b[0m \u001b[0mself\u001b[0m\u001b[0;34m.\u001b[0m\u001b[0m_collector_cm\u001b[0m\u001b[0;34m.\u001b[0m\u001b[0m__aexit__\u001b[0m\u001b[0;34m(\u001b[0m\u001b[0mexc_type\u001b[0m\u001b[0;34m,\u001b[0m \u001b[0mexc\u001b[0m\u001b[0;34m,\u001b[0m \u001b[0mtb\u001b[0m\u001b[0;34m)\u001b[0m\u001b[0;34m\u001b[0m\u001b[0;34m\u001b[0m\u001b[0m\n\u001b[1;32m    124\u001b[0m         \u001b[0mchildren_parts\u001b[0m \u001b[0;34m=\u001b[0m \u001b[0;32mawait\u001b[0m \u001b[0mrenderChildren\u001b[0m\u001b[0;34m(\u001b[0m\u001b[0mself\u001b[0m\u001b[0;34m.\u001b[0m\u001b[0m_my_collector\u001b[0m \u001b[0;32mor\u001b[0m \u001b[0;34m[\u001b[0m\u001b[0;34m]\u001b[0m\u001b[0;34m)\u001b[0m\u001b[0;34m\u001b[0m\u001b[0;34m\u001b[0m\u001b[0m\n\u001b[0;32m--> 125\u001b[0;31m         \u001b[0mopen_tag\u001b[0m \u001b[0;34m=\u001b[0m \u001b[0;34mf\"<{self.tag}{renderProps(**self.props)}>\"\u001b[0m\u001b[0;34m\u001b[0m\u001b[0;34m\u001b[0m\u001b[0m\n\u001b[0m\u001b[1;32m    126\u001b[0m         \u001b[0mclose_tag\u001b[0m \u001b[0;34m=\u001b[0m \u001b[0;34mf\"</{self.tag}>\"\u001b[0m\u001b[0;34m\u001b[0m\u001b[0;34m\u001b[0m\u001b[0m\n\u001b[1;32m    127\u001b[0m         \u001b[0mblock\u001b[0m \u001b[0;34m=\u001b[0m \u001b[0;34m[\u001b[0m\u001b[0mopen_tag\u001b[0m\u001b[0;34m,\u001b[0m \u001b[0;34m*\u001b[0m\u001b[0mmap\u001b[0m\u001b[0;34m(\u001b[0m\u001b[0mstr\u001b[0m\u001b[0;34m,\u001b[0m \u001b[0mchildren_parts\u001b[0m\u001b[0;34m)\u001b[0m\u001b[0;34m,\u001b[0m \u001b[0mclose_tag\u001b[0m\u001b[0;34m]\u001b[0m\u001b[0;34m\u001b[0m\u001b[0;34m\u001b[0m\u001b[0m\n",
            "\u001b[0;32m/tmp/ipython-input-2558562780.py\u001b[0m in \u001b[0;36mrenderProps\u001b[0;34m(**props)\u001b[0m\n\u001b[1;32m     26\u001b[0m             \u001b[0mparts\u001b[0m\u001b[0;34m.\u001b[0m\u001b[0mappend\u001b[0m\u001b[0;34m(\u001b[0m\u001b[0;34mf\" {key}\"\u001b[0m\u001b[0;34m)\u001b[0m\u001b[0;34m\u001b[0m\u001b[0;34m\u001b[0m\u001b[0m\n\u001b[1;32m     27\u001b[0m         \u001b[0;32melse\u001b[0m\u001b[0;34m:\u001b[0m\u001b[0;34m\u001b[0m\u001b[0;34m\u001b[0m\u001b[0m\n\u001b[0;32m---> 28\u001b[0;31m             \u001b[0mparts\u001b[0m\u001b[0;34m.\u001b[0m\u001b[0mappend\u001b[0m\u001b[0;34m(\u001b[0m\u001b[0;34mf' {key}=\"{html.escape(str(value), quote=True)}\"'\u001b[0m\u001b[0;34m)\u001b[0m\u001b[0;34m\u001b[0m\u001b[0;34m\u001b[0m\u001b[0m\n\u001b[0m\u001b[1;32m     29\u001b[0m     \u001b[0;32mreturn\u001b[0m \u001b[0;34m\"\"\u001b[0m\u001b[0;34m.\u001b[0m\u001b[0mjoin\u001b[0m\u001b[0;34m(\u001b[0m\u001b[0mparts\u001b[0m\u001b[0;34m)\u001b[0m\u001b[0;34m\u001b[0m\u001b[0;34m\u001b[0m\u001b[0m\n\u001b[1;32m     30\u001b[0m \u001b[0;34m\u001b[0m\u001b[0m\n",
            "\u001b[0;32m/usr/local/lib/python3.12/dist-packages/IPython/utils/shimmodule.py\u001b[0m in \u001b[0;36m__getattr__\u001b[0;34m(self, key)\u001b[0m\n\u001b[1;32m     92\u001b[0m             \u001b[0;32mreturn\u001b[0m \u001b[0mimport_item\u001b[0m\u001b[0;34m(\u001b[0m\u001b[0mname\u001b[0m\u001b[0;34m)\u001b[0m\u001b[0;34m\u001b[0m\u001b[0;34m\u001b[0m\u001b[0m\n\u001b[1;32m     93\u001b[0m         \u001b[0;32mexcept\u001b[0m \u001b[0mImportError\u001b[0m\u001b[0;34m:\u001b[0m\u001b[0;34m\u001b[0m\u001b[0;34m\u001b[0m\u001b[0m\n\u001b[0;32m---> 94\u001b[0;31m             \u001b[0;32mraise\u001b[0m \u001b[0mAttributeError\u001b[0m\u001b[0;34m(\u001b[0m\u001b[0mkey\u001b[0m\u001b[0;34m)\u001b[0m\u001b[0;34m\u001b[0m\u001b[0;34m\u001b[0m\u001b[0m\n\u001b[0m",
            "\u001b[0;31mAttributeError\u001b[0m: escape"
          ]
        }
      ]
    },
    {
      "cell_type": "code",
      "source": [],
      "metadata": {
        "id": "wKf2nzetAz9Q"
      },
      "execution_count": null,
      "outputs": []
    }
  ]
}