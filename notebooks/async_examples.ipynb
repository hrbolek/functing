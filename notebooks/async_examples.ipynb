{
  "nbformat": 4,
  "nbformat_minor": 0,
  "metadata": {
    "colab": {
      "name": "Examples.ipynb",
      "provenance": [],
      "toc_visible": true,
      "authorship_tag": "ABX9TyMCLBvPGbsXyQ/n0murD/ea",
      "include_colab_link": true
    },
    "kernelspec": {
      "name": "python3",
      "display_name": "Python 3"
    }
  },
  "cells": [
    {
      "cell_type": "markdown",
      "metadata": {
        "id": "view-in-github",
        "colab_type": "text"
      },
      "source": [
        "<a href=\"https://colab.research.google.com/github/hrbolek/functing/blob/main/notebooks/async_examples.ipynb\" target=\"_parent\"><img src=\"https://colab.research.google.com/assets/colab-badge.svg\" alt=\"Open In Colab\"/></a>"
      ]
    },
    {
      "cell_type": "markdown",
      "metadata": {
        "id": "EGs7XNgT7NHD"
      },
      "source": [
        "# Examples of usage"
      ]
    },
    {
      "cell_type": "markdown",
      "metadata": {
        "id": "T29VysRaDHIm"
      },
      "source": [
        "At first little hack from https://stackoverflow.com/questions/64074295/is-there-an-equivalence-of-await-in-google-colab to allow async function evaluation in Google Colab."
      ]
    },
    {
      "cell_type": "code",
      "metadata": {
        "id": "ipczmU1vDR4d",
        "outputId": "d50a0b20-3b97-49d3-bfee-535e5e8f08b4",
        "colab": {
          "base_uri": "https://localhost:8080/"
        }
      },
      "source": [
        "!pip install nest_asyncio"
      ],
      "execution_count": 3,
      "outputs": [
        {
          "output_type": "stream",
          "text": [
            "Requirement already satisfied: nest_asyncio in /usr/local/lib/python3.7/dist-packages (1.5.1)\n"
          ],
          "name": "stdout"
        }
      ]
    },
    {
      "cell_type": "code",
      "metadata": {
        "id": "zjRs5PKVDGAs"
      },
      "source": [
        "import nest_asyncio\r\n",
        "nest_asyncio.apply()\r\n",
        "\r\n",
        "import asyncio\r\n",
        "awaitFunc = lambda x: asyncio.get_event_loop().run_until_complete(x)"
      ],
      "execution_count": 5,
      "outputs": []
    },
    {
      "cell_type": "code",
      "metadata": {
        "id": "cXdjRJ15Cl84",
        "outputId": "8424b48a-9498-40bc-ec76-9216e8b64196",
        "colab": {
          "base_uri": "https://localhost:8080/"
        }
      },
      "source": [
        "!pip install functing"
      ],
      "execution_count": 1,
      "outputs": [
        {
          "output_type": "stream",
          "text": [
            "Collecting functing\n",
            "  Downloading https://files.pythonhosted.org/packages/78/fd/a27550d5e933a77c64b745b1689f55559dd7a0f965094da7332290cdcc4c/functing-0.4.tar.gz\n",
            "Building wheels for collected packages: functing\n",
            "  Building wheel for functing (setup.py) ... \u001b[?25l\u001b[?25hdone\n",
            "  Created wheel for functing: filename=functing-0.4-cp37-none-any.whl size=2805 sha256=2a69de6b81e7ca18e4d36281fe8b2bf5f4fa9a92caf40241ce3a4b25b89b75f5\n",
            "  Stored in directory: /root/.cache/pip/wheels/b2/d7/d1/597d072821914ef2a9ab2e9c94b272e29e5fa543640e641b2a\n",
            "Successfully built functing\n",
            "Installing collected packages: functing\n",
            "Successfully installed functing-0.4\n"
          ],
          "name": "stdout"
        }
      ]
    },
    {
      "cell_type": "markdown",
      "metadata": {
        "id": "KZba4_EbCi1J"
      },
      "source": [
        "## Example A"
      ]
    },
    {
      "cell_type": "code",
      "metadata": {
        "id": "yx6RECyh7Jyt",
        "outputId": "da071334-7a4a-4668-c1d9-25307b9f14dc",
        "colab": {
          "base_uri": "https://localhost:8080/"
        }
      },
      "source": [
        "from functing.asynchronous import createTag\r\n",
        "\r\n",
        "Td = createTag('td')()\r\n",
        "\r\n",
        "async def Card(name):\r\n",
        "    return Td(\r\n",
        "        Td(\r\n",
        "            'Hello', name\r\n",
        "        )\r\n",
        "    )\r\n",
        "\r\n",
        "pageCode = awaitFunc(Card('John')) # usually pageCode = await Card('John')\r\n",
        "html = awaitFunc(pageCode())       # usually html = await pageCode()\r\n",
        "print(html)"
      ],
      "execution_count": 7,
      "outputs": [
        {
          "output_type": "stream",
          "text": [
            "['<td>', '<td>', 'Hello', 'John', '</td>', '</td>']\n"
          ],
          "name": "stdout"
        }
      ]
    },
    {
      "cell_type": "markdown",
      "metadata": {
        "id": "Iorf8zayD32C"
      },
      "source": [
        "## Example B"
      ]
    },
    {
      "cell_type": "code",
      "metadata": {
        "id": "AVNH8I1nDjTm"
      },
      "source": [
        "import time\r\n",
        "\r\n",
        "def mS(start=0):\r\n",
        "    return time.time() - start"
      ],
      "execution_count": 8,
      "outputs": []
    },
    {
      "cell_type": "code",
      "metadata": {
        "id": "yHZIsvknEKgO"
      },
      "source": [
        "from functing.asynchronous import Children\r\n",
        "\r\n",
        "Td = createTag('td')(className='card')\r\n",
        "Tr = createTag('tr')()\r\n",
        "Th = createTag('th')()\r\n",
        "Table = createTag('table')()\r\n",
        "TableBody = createTag('tbody')()\r\n",
        "\r\n",
        "async def TableCell(data):\r\n",
        "    await asyncio.sleep(1)\r\n",
        "    return Td(data)\r\n",
        "\r\n",
        "def Head(data):\r\n",
        "    result = [Th(col) for col in data.keys()]\r\n",
        "    return Tr(*result)\r\n",
        "\r\n",
        "def Row(data):\r\n",
        "    result = [TableCell(str(value)) for value in data.values()]\r\n",
        "    return Tr(*result)\r\n",
        "\r\n",
        "def FullTable(dataRows):\r\n",
        "    bodyRows = [Row(data) for data in dataRows]\r\n",
        "    return Table(\r\n",
        "        Head(dataRows[0]),\r\n",
        "        TableBody(*bodyRows)\r\n",
        "    )"
      ],
      "execution_count": 16,
      "outputs": []
    },
    {
      "cell_type": "markdown",
      "metadata": {
        "id": "ev1b586LFeur"
      },
      "source": [
        "Notice that `TableCell` is called 12 times. With blocking call it should take more than 12 second. As asynchronous templating generates `TableCell` concurently, it takes only approximately 1 second."
      ]
    },
    {
      "cell_type": "code",
      "metadata": {
        "id": "XYmx0xVWEg9f",
        "outputId": "0d381396-a627-439a-cc62-1d0419da563e",
        "colab": {
          "base_uri": "https://localhost:8080/"
        }
      },
      "source": [
        "subjectTable = [\r\n",
        "    {'id': 1024, 'name': 'Mathematics', 'lessons': 60},\r\n",
        "    {'id': 1144, 'name': 'English', 'lessons': 30},\r\n",
        "    {'id': 1194, 'name': 'History', 'lessons': 75},\r\n",
        "    {'id': 1086, 'name': 'Physics', 'lessons': 45},\r\n",
        "]\r\n",
        "\r\n",
        "start = mS()\r\n",
        "pageCode = FullTable(subjectTable) \r\n",
        "htmlItems = awaitFunc(pageCode())  # htmlItems = await pageCode()\r\n",
        "htmlStr = ''.join(htmlItems)\r\n",
        "duration = mS(start)\r\n",
        "print('duration', duration, 'ms')\r\n",
        "print(htmlItems)\r\n",
        "print(htmlStr.replace('<tr>', '\\n<tr>'))\r\n"
      ],
      "execution_count": 17,
      "outputs": [
        {
          "output_type": "stream",
          "text": [
            "duration 1.0039935111999512 ms\n",
            "['<table>', '<tr>', '<th>', 'id', '</th>', '<th>', 'name', '</th>', '<th>', 'lessons', '</th>', '</tr>', '<tbody>', '<tr>', '<td className=\"card\">', '1024', '</td>', '<td className=\"card\">', 'Mathematics', '</td>', '<td className=\"card\">', '60', '</td>', '</tr>', '<tr>', '<td className=\"card\">', '1144', '</td>', '<td className=\"card\">', 'English', '</td>', '<td className=\"card\">', '30', '</td>', '</tr>', '<tr>', '<td className=\"card\">', '1194', '</td>', '<td className=\"card\">', 'History', '</td>', '<td className=\"card\">', '75', '</td>', '</tr>', '<tr>', '<td className=\"card\">', '1086', '</td>', '<td className=\"card\">', 'Physics', '</td>', '<td className=\"card\">', '45', '</td>', '</tr>', '</tbody>', '</table>']\n",
            "<table>\n",
            "<tr><th>id</th><th>name</th><th>lessons</th></tr><tbody>\n",
            "<tr><td className=\"card\">1024</td><td className=\"card\">Mathematics</td><td className=\"card\">60</td></tr>\n",
            "<tr><td className=\"card\">1144</td><td className=\"card\">English</td><td className=\"card\">30</td></tr>\n",
            "<tr><td className=\"card\">1194</td><td className=\"card\">History</td><td className=\"card\">75</td></tr>\n",
            "<tr><td className=\"card\">1086</td><td className=\"card\">Physics</td><td className=\"card\">45</td></tr></tbody></table>\n"
          ],
          "name": "stdout"
        }
      ]
    },
    {
      "cell_type": "markdown",
      "metadata": {
        "id": "k4GZWOFbGNbG"
      },
      "source": [
        "## Example C"
      ]
    },
    {
      "cell_type": "markdown",
      "metadata": {
        "id": "Oz8MtdyoGPFq"
      },
      "source": [
        "Now the main template is async function."
      ]
    },
    {
      "cell_type": "code",
      "metadata": {
        "id": "gsMzvREBFHSa"
      },
      "source": [
        "from functing.asynchronous import Children\r\n",
        "\r\n",
        "Td = createTag('td')(className='card')\r\n",
        "Tr = createTag('tr')()\r\n",
        "Th = createTag('th')()\r\n",
        "Table = createTag('table')()\r\n",
        "TableBody = createTag('tbody')()\r\n",
        "\r\n",
        "async def TableCell(data):\r\n",
        "    await asyncio.sleep(1)\r\n",
        "    return Td(data)\r\n",
        "\r\n",
        "def Head(data):\r\n",
        "    result = [Th(col) for col in data.keys()]\r\n",
        "    return Tr(*result)\r\n",
        "\r\n",
        "def Row(data):\r\n",
        "    result = [TableCell(str(value)) for value in data.values()]\r\n",
        "    return Tr(*result)\r\n",
        "\r\n",
        "async def FullTable(dataRows):\r\n",
        "    bodyRows = [Row(data) for data in dataRows]\r\n",
        "    return Table(\r\n",
        "        Head(dataRows[0]),\r\n",
        "        TableBody(*bodyRows)\r\n",
        "    )"
      ],
      "execution_count": 18,
      "outputs": []
    },
    {
      "cell_type": "code",
      "metadata": {
        "id": "BHujFyR6GbvO",
        "outputId": "5cbac47a-9683-4b93-ce2e-afd27fe25585",
        "colab": {
          "base_uri": "https://localhost:8080/"
        }
      },
      "source": [
        "subjectTable = [\r\n",
        "    {'id': 1024, 'name': 'Mathematics', 'lessons': 60},\r\n",
        "    {'id': 1144, 'name': 'English', 'lessons': 30},\r\n",
        "    {'id': 1194, 'name': 'History', 'lessons': 75},\r\n",
        "    {'id': 1086, 'name': 'Physics', 'lessons': 45},\r\n",
        "]\r\n",
        "\r\n",
        "start = mS()\r\n",
        "pageCode = awaitFunc(FullTable(subjectTable)) # pageCode = await FullTable(subjectTable)\r\n",
        "htmlItems = awaitFunc(pageCode())             # htmlItems = await pageCode()\r\n",
        "htmlStr = ''.join(htmlItems)\r\n",
        "duration = mS(start)\r\n",
        "print('duration', duration, 'ms')\r\n",
        "print(htmlItems)\r\n",
        "print(htmlStr.replace('<tr>', '\\n<tr>'))\r\n"
      ],
      "execution_count": 19,
      "outputs": [
        {
          "output_type": "stream",
          "text": [
            "duration 1.0033257007598877 ms\n",
            "['<table>', '<tr>', '<th>', 'id', '</th>', '<th>', 'name', '</th>', '<th>', 'lessons', '</th>', '</tr>', '<tbody>', '<tr>', '<td className=\"card\">', '1024', '</td>', '<td className=\"card\">', 'Mathematics', '</td>', '<td className=\"card\">', '60', '</td>', '</tr>', '<tr>', '<td className=\"card\">', '1144', '</td>', '<td className=\"card\">', 'English', '</td>', '<td className=\"card\">', '30', '</td>', '</tr>', '<tr>', '<td className=\"card\">', '1194', '</td>', '<td className=\"card\">', 'History', '</td>', '<td className=\"card\">', '75', '</td>', '</tr>', '<tr>', '<td className=\"card\">', '1086', '</td>', '<td className=\"card\">', 'Physics', '</td>', '<td className=\"card\">', '45', '</td>', '</tr>', '</tbody>', '</table>']\n",
            "<table>\n",
            "<tr><th>id</th><th>name</th><th>lessons</th></tr><tbody>\n",
            "<tr><td className=\"card\">1024</td><td className=\"card\">Mathematics</td><td className=\"card\">60</td></tr>\n",
            "<tr><td className=\"card\">1144</td><td className=\"card\">English</td><td className=\"card\">30</td></tr>\n",
            "<tr><td className=\"card\">1194</td><td className=\"card\">History</td><td className=\"card\">75</td></tr>\n",
            "<tr><td className=\"card\">1086</td><td className=\"card\">Physics</td><td className=\"card\">45</td></tr></tbody></table>\n"
          ],
          "name": "stdout"
        }
      ]
    },
    {
      "cell_type": "code",
      "metadata": {
        "id": "svemZgf5GfAP"
      },
      "source": [
        ""
      ],
      "execution_count": null,
      "outputs": []
    }
  ]
}